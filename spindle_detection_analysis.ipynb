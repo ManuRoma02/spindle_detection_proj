{
 "cells": [
  {
   "cell_type": "markdown",
   "metadata": {},
   "source": [
    "# Optimizing Sleep Spindle Detection with Machine Learning\n",
    "Author: Manuel Romanelli, Matteo Vairani & Gabriel Tabacaru\n",
    "\n",
    "This Jupyter notebook documents the development and evaluation of a personalized sleep spindle detection algorithm, building upon the methodologies proposed in the paper titled \"Personalized Sleep Spindle Detection in Whole Night Polysomnography\". Our objective is to understand, reproduce, and enhance the detection capabilities reported in the study using advanced machine learning techniques and feature engineering. Through this notebook, we explore various classifiers and feature selection processes to improve the sensitivity and specificity of spindle detection in EEG signals.\n",
    "\n",
    "Sources:\n",
    "https://zenodo.org/records/2650142#.ZDkhp3ZBw2w"
   ]
  },
  {
   "cell_type": "markdown",
   "metadata": {},
   "source": [
    "## Libraries"
   ]
  },
  {
   "cell_type": "code",
   "execution_count": 1,
   "metadata": {},
   "outputs": [],
   "source": [
    "import os\n",
    "import pandas as pd\n",
    "import numpy as np\n",
    "import matplotlib.pyplot as plt\n",
    "import mne\n",
    "from tqdm import tqdm\n",
    "import nolds\n",
    "import joblib\n",
    "import xgboost as xgb"
   ]
  },
  {
   "cell_type": "code",
   "execution_count": 2,
   "metadata": {},
   "outputs": [],
   "source": [
    "from scipy.signal import butter, filtfilt\n",
    "from scipy.signal import hilbert, welch, spectrogram\n",
    "from scipy import stats"
   ]
  },
  {
   "cell_type": "code",
   "execution_count": 3,
   "metadata": {},
   "outputs": [],
   "source": [
    "from sklearn.ensemble import RandomForestClassifier, GradientBoostingClassifier\n",
    "from sklearn.svm import SVC\n",
    "from sklearn.model_selection import GridSearchCV\n",
    "from sklearn.preprocessing import MinMaxScaler\n",
    "from sklearn.neighbors import KNeighborsClassifier\n",
    "from sklearn.metrics import classification_report, f1_score, make_scorer, accuracy_score\n",
    "from sklearn.linear_model import LogisticRegression"
   ]
  },
  {
   "cell_type": "code",
   "execution_count": 4,
   "metadata": {},
   "outputs": [],
   "source": [
    "from imblearn.combine import SMOTEENN\n",
    "from imblearn.under_sampling import RandomUnderSampler\n",
    "from imblearn.over_sampling import SMOTE"
   ]
  },
  {
   "cell_type": "markdown",
   "metadata": {},
   "source": [
    "## Dataset Import\n",
    "Loading the EEG signals of the patients"
   ]
  },
  {
   "cell_type": "code",
   "execution_count": 5,
   "metadata": {},
   "outputs": [
    {
     "name": "stdout",
     "output_type": "stream",
     "text": [
      "Extracting EDF parameters from c:\\Users\\matte\\OneDrive\\Desktop\\SCHOOL\\2023 - 2024\\spring_semester\\subjects\\key_areas_far\\project\\dataset\\excerpt1.edf...\n",
      "EDF file detected\n",
      "\u001b[91mfile: dataset/excerpt1.edf has faced an error: not enough values to unpack (expected 3, got 2)\u001b[0m\n",
      "Extracting EDF parameters from c:\\Users\\matte\\OneDrive\\Desktop\\SCHOOL\\2023 - 2024\\spring_semester\\subjects\\key_areas_far\\project\\dataset\\excerpt2.edf...\n",
      "EDF file detected\n",
      "Setting channel info structure...\n",
      "Creating raw.info structure...\n"
     ]
    },
    {
     "name": "stderr",
     "output_type": "stream",
     "text": [
      "C:\\Users\\matte\\AppData\\Local\\Temp\\ipykernel_31636\\1480268753.py:17: RuntimeWarning: Scaling factor is not defined in following channels:\n",
      "event_pneumo, event_pneumo_aut\n",
      "  raw = mne.io.read_raw_edf(file_path, preload=True)\n",
      "C:\\Users\\matte\\AppData\\Local\\Temp\\ipykernel_31636\\1480268753.py:17: RuntimeWarning: Physical range is not defined in following channels:\n",
      "VAB, NAF2P-A1, PCPAP, POS, FP2-A1, O2-A1, CZ2-A1, event_pneumo, event_pneumo_aut\n",
      "  raw = mne.io.read_raw_edf(file_path, preload=True)\n"
     ]
    },
    {
     "name": "stdout",
     "output_type": "stream",
     "text": [
      "Reading 0 ... 359999  =      0.000 ...  1799.995 secs...\n",
      "Extracting EDF parameters from c:\\Users\\matte\\OneDrive\\Desktop\\SCHOOL\\2023 - 2024\\spring_semester\\subjects\\key_areas_far\\project\\dataset\\excerpt3.edf...\n",
      "EDF file detected\n",
      "Setting channel info structure...\n",
      "Creating raw.info structure...\n",
      "Reading 0 ... 89999  =      0.000 ...  1799.980 secs...\n",
      "Extracting EDF parameters from c:\\Users\\matte\\OneDrive\\Desktop\\SCHOOL\\2023 - 2024\\spring_semester\\subjects\\key_areas_far\\project\\dataset\\excerpt4.edf...\n",
      "EDF file detected\n",
      "Setting channel info structure...\n",
      "Creating raw.info structure...\n",
      "Reading 0 ... 359999  =      0.000 ...  1799.995 secs...\n"
     ]
    },
    {
     "name": "stderr",
     "output_type": "stream",
     "text": [
      "C:\\Users\\matte\\AppData\\Local\\Temp\\ipykernel_31636\\1480268753.py:17: RuntimeWarning: Scaling factor is not defined in following channels:\n",
      "event_pneumo_aut\n",
      "  raw = mne.io.read_raw_edf(file_path, preload=True)\n",
      "C:\\Users\\matte\\AppData\\Local\\Temp\\ipykernel_31636\\1480268753.py:17: RuntimeWarning: Physical range is not defined in following channels:\n",
      "PCPAP, event_pneumo_aut\n",
      "  raw = mne.io.read_raw_edf(file_path, preload=True)\n"
     ]
    },
    {
     "name": "stdout",
     "output_type": "stream",
     "text": [
      "Extracting EDF parameters from c:\\Users\\matte\\OneDrive\\Desktop\\SCHOOL\\2023 - 2024\\spring_semester\\subjects\\key_areas_far\\project\\dataset\\excerpt5.edf...\n",
      "EDF file detected\n",
      "Setting channel info structure...\n",
      "Creating raw.info structure...\n",
      "Reading 0 ... 359999  =      0.000 ...  1799.995 secs...\n",
      "Extracting EDF parameters from c:\\Users\\matte\\OneDrive\\Desktop\\SCHOOL\\2023 - 2024\\spring_semester\\subjects\\key_areas_far\\project\\dataset\\excerpt6.edf...\n"
     ]
    },
    {
     "name": "stderr",
     "output_type": "stream",
     "text": [
      "C:\\Users\\matte\\AppData\\Local\\Temp\\ipykernel_31636\\1480268753.py:17: RuntimeWarning: Physical range is not defined in following channels:\n",
      "PCPAP\n",
      "  raw = mne.io.read_raw_edf(file_path, preload=True)\n"
     ]
    },
    {
     "name": "stdout",
     "output_type": "stream",
     "text": [
      "EDF file detected\n",
      "Setting channel info structure...\n",
      "Creating raw.info structure...\n",
      "Reading 0 ... 359999  =      0.000 ...  1799.995 secs...\n"
     ]
    },
    {
     "name": "stderr",
     "output_type": "stream",
     "text": [
      "C:\\Users\\matte\\AppData\\Local\\Temp\\ipykernel_31636\\1480268753.py:17: RuntimeWarning: Scaling factor is not defined in following channels:\n",
      "event_pneumo_aut\n",
      "  raw = mne.io.read_raw_edf(file_path, preload=True)\n",
      "C:\\Users\\matte\\AppData\\Local\\Temp\\ipykernel_31636\\1480268753.py:17: RuntimeWarning: Physical range is not defined in following channels:\n",
      "VTH, VAB, NAF2P-A1, NAF1, PCPAP, FP2-A1, O2-A1, CZ2-A1, event_pneumo_aut\n",
      "  raw = mne.io.read_raw_edf(file_path, preload=True)\n"
     ]
    },
    {
     "name": "stdout",
     "output_type": "stream",
     "text": [
      "Extracting EDF parameters from c:\\Users\\matte\\OneDrive\\Desktop\\SCHOOL\\2023 - 2024\\spring_semester\\subjects\\key_areas_far\\project\\dataset\\excerpt7.edf...\n",
      "EDF file detected\n",
      "Setting channel info structure...\n",
      "Creating raw.info structure...\n",
      "Reading 0 ... 359999  =      0.000 ...  1799.995 secs...\n",
      "Extracting EDF parameters from c:\\Users\\matte\\OneDrive\\Desktop\\SCHOOL\\2023 - 2024\\spring_semester\\subjects\\key_areas_far\\project\\dataset\\excerpt8.edf...\n",
      "EDF file detected\n"
     ]
    },
    {
     "name": "stderr",
     "output_type": "stream",
     "text": [
      "C:\\Users\\matte\\AppData\\Local\\Temp\\ipykernel_31636\\1480268753.py:17: RuntimeWarning: Scaling factor is not defined in following channels:\n",
      "PHONO\n",
      "  raw = mne.io.read_raw_edf(file_path, preload=True)\n",
      "C:\\Users\\matte\\AppData\\Local\\Temp\\ipykernel_31636\\1480268753.py:17: RuntimeWarning: Physical range is not defined in following channels:\n",
      "PHONO, PCPAP, POS, FP2-A1, O2-A1\n",
      "  raw = mne.io.read_raw_edf(file_path, preload=True)\n"
     ]
    },
    {
     "name": "stdout",
     "output_type": "stream",
     "text": [
      "Setting channel info structure...\n",
      "Creating raw.info structure...\n",
      "Reading 0 ... 359999  =      0.000 ...  1799.995 secs...\n"
     ]
    },
    {
     "name": "stderr",
     "output_type": "stream",
     "text": [
      "C:\\Users\\matte\\AppData\\Local\\Temp\\ipykernel_31636\\1480268753.py:17: RuntimeWarning: Scaling factor is not defined in following channels:\n",
      "event_pneumo, event_pneumo_aut\n",
      "  raw = mne.io.read_raw_edf(file_path, preload=True)\n",
      "C:\\Users\\matte\\AppData\\Local\\Temp\\ipykernel_31636\\1480268753.py:17: RuntimeWarning: Physical range is not defined in following channels:\n",
      "NAF2P-A1, NAF1, PHONO, PCPAP, POS, event_pneumo, event_pneumo_aut\n",
      "  raw = mne.io.read_raw_edf(file_path, preload=True)\n"
     ]
    }
   ],
   "source": [
    "RED_COLOR = \"\\033[91m\"\n",
    "RESET_COLOR = \"\\033[0m\"\n",
    "\n",
    "datasets_edf_path = [\n",
    "    \"dataset/excerpt1.edf\",\n",
    "    \"dataset/excerpt2.edf\",\n",
    "    \"dataset/excerpt3.edf\",\n",
    "    \"dataset/excerpt4.edf\",\n",
    "    \"dataset/excerpt5.edf\",\n",
    "    \"dataset/excerpt6.edf\",\n",
    "    \"dataset/excerpt7.edf\",\n",
    "    \"dataset/excerpt8.edf\"\n",
    "]\n",
    "datasets = []\n",
    "for file_path in datasets_edf_path:\n",
    "    try:\n",
    "        raw = mne.io.read_raw_edf(file_path, preload=True)\n",
    "    except Exception as e:\n",
    "        print(f'{RED_COLOR}file: {file_path} has faced an error: {e}{RESET_COLOR}')\n",
    "        continue\n",
    "    datasets.append(raw)"
   ]
  },
  {
   "cell_type": "markdown",
   "metadata": {},
   "source": [
    "For some reasons the first file rise an exception. After some trials we decided to quit the trials for solving this problem and continue the analysis with only the other 7 edf datasets and load the txt file for the excerpt1."
   ]
  },
  {
   "cell_type": "code",
   "execution_count": 6,
   "metadata": {},
   "outputs": [
    {
     "data": {
      "text/html": [
       "<div>\n",
       "<style scoped>\n",
       "    .dataframe tbody tr th:only-of-type {\n",
       "        vertical-align: middle;\n",
       "    }\n",
       "\n",
       "    .dataframe tbody tr th {\n",
       "        vertical-align: top;\n",
       "    }\n",
       "\n",
       "    .dataframe thead th {\n",
       "        text-align: right;\n",
       "    }\n",
       "</style>\n",
       "<table border=\"1\" class=\"dataframe\">\n",
       "  <thead>\n",
       "    <tr style=\"text-align: right;\">\n",
       "      <th></th>\n",
       "      <th>EEG_Signal</th>\n",
       "    </tr>\n",
       "  </thead>\n",
       "  <tbody>\n",
       "    <tr>\n",
       "      <th>0</th>\n",
       "      <td>-0.9562</td>\n",
       "    </tr>\n",
       "    <tr>\n",
       "      <th>1</th>\n",
       "      <td>-0.8962</td>\n",
       "    </tr>\n",
       "    <tr>\n",
       "      <th>2</th>\n",
       "      <td>-3.1877</td>\n",
       "    </tr>\n",
       "    <tr>\n",
       "      <th>3</th>\n",
       "      <td>-4.1783</td>\n",
       "    </tr>\n",
       "    <tr>\n",
       "      <th>4</th>\n",
       "      <td>-5.3190</td>\n",
       "    </tr>\n",
       "    <tr>\n",
       "      <th>...</th>\n",
       "      <td>...</td>\n",
       "    </tr>\n",
       "    <tr>\n",
       "      <th>179995</th>\n",
       "      <td>-35.3882</td>\n",
       "    </tr>\n",
       "    <tr>\n",
       "      <th>179996</th>\n",
       "      <td>-36.7090</td>\n",
       "    </tr>\n",
       "    <tr>\n",
       "      <th>179997</th>\n",
       "      <td>-29.3243</td>\n",
       "    </tr>\n",
       "    <tr>\n",
       "      <th>179998</th>\n",
       "      <td>-21.6895</td>\n",
       "    </tr>\n",
       "    <tr>\n",
       "      <th>179999</th>\n",
       "      <td>-12.8338</td>\n",
       "    </tr>\n",
       "  </tbody>\n",
       "</table>\n",
       "<p>180000 rows × 1 columns</p>\n",
       "</div>"
      ],
      "text/plain": [
       "        EEG_Signal\n",
       "0          -0.9562\n",
       "1          -0.8962\n",
       "2          -3.1877\n",
       "3          -4.1783\n",
       "4          -5.3190\n",
       "...            ...\n",
       "179995    -35.3882\n",
       "179996    -36.7090\n",
       "179997    -29.3243\n",
       "179998    -21.6895\n",
       "179999    -12.8338\n",
       "\n",
       "[180000 rows x 1 columns]"
      ]
     },
     "execution_count": 6,
     "metadata": {},
     "output_type": "execute_result"
    }
   ],
   "source": [
    "exc1 = pd.read_csv('dataset/excerpt1.txt')\n",
    "exc1.rename(columns={'[C3-A1]':'EEG_Signal'},inplace=True)\n",
    "exc1"
   ]
  },
  {
   "cell_type": "markdown",
   "metadata": {},
   "source": [
    "## Signal Resempling\n",
    "\n",
    "We are managing time series data by assigning timestamps to EEG signals and adjusting their sampling resolution. It starts by creating a time index at a 10ms interval, setting it to the DataFrame, then resamples the data to a finer 5ms interval using linear interpolation to enhance temporal detail, crucial for precise analysis in machine learning tasks related to EEG."
   ]
  },
  {
   "cell_type": "code",
   "execution_count": 7,
   "metadata": {},
   "outputs": [
    {
     "data": {
      "text/html": [
       "<div>\n",
       "<style scoped>\n",
       "    .dataframe tbody tr th:only-of-type {\n",
       "        vertical-align: middle;\n",
       "    }\n",
       "\n",
       "    .dataframe tbody tr th {\n",
       "        vertical-align: top;\n",
       "    }\n",
       "\n",
       "    .dataframe thead th {\n",
       "        text-align: right;\n",
       "    }\n",
       "</style>\n",
       "<table border=\"1\" class=\"dataframe\">\n",
       "  <thead>\n",
       "    <tr style=\"text-align: right;\">\n",
       "      <th></th>\n",
       "      <th>Timestamp</th>\n",
       "      <th>EEG_Signal</th>\n",
       "    </tr>\n",
       "  </thead>\n",
       "  <tbody>\n",
       "    <tr>\n",
       "      <th>0</th>\n",
       "      <td>00:00:00.000000</td>\n",
       "      <td>-0.95620</td>\n",
       "    </tr>\n",
       "    <tr>\n",
       "      <th>1</th>\n",
       "      <td>00:00:00.005000</td>\n",
       "      <td>-0.92620</td>\n",
       "    </tr>\n",
       "    <tr>\n",
       "      <th>2</th>\n",
       "      <td>00:00:00.010000</td>\n",
       "      <td>-0.89620</td>\n",
       "    </tr>\n",
       "    <tr>\n",
       "      <th>3</th>\n",
       "      <td>00:00:00.015000</td>\n",
       "      <td>-2.04195</td>\n",
       "    </tr>\n",
       "    <tr>\n",
       "      <th>4</th>\n",
       "      <td>00:00:00.020000</td>\n",
       "      <td>-3.18770</td>\n",
       "    </tr>\n",
       "    <tr>\n",
       "      <th>...</th>\n",
       "      <td>...</td>\n",
       "      <td>...</td>\n",
       "    </tr>\n",
       "    <tr>\n",
       "      <th>359994</th>\n",
       "      <td>00:29:59.970000</td>\n",
       "      <td>-29.32430</td>\n",
       "    </tr>\n",
       "    <tr>\n",
       "      <th>359995</th>\n",
       "      <td>00:29:59.975000</td>\n",
       "      <td>-25.50690</td>\n",
       "    </tr>\n",
       "    <tr>\n",
       "      <th>359996</th>\n",
       "      <td>00:29:59.980000</td>\n",
       "      <td>-21.68950</td>\n",
       "    </tr>\n",
       "    <tr>\n",
       "      <th>359997</th>\n",
       "      <td>00:29:59.985000</td>\n",
       "      <td>-17.26165</td>\n",
       "    </tr>\n",
       "    <tr>\n",
       "      <th>359998</th>\n",
       "      <td>00:29:59.990000</td>\n",
       "      <td>-12.83380</td>\n",
       "    </tr>\n",
       "  </tbody>\n",
       "</table>\n",
       "<p>359999 rows × 2 columns</p>\n",
       "</div>"
      ],
      "text/plain": [
       "              Timestamp  EEG_Signal\n",
       "0       00:00:00.000000    -0.95620\n",
       "1       00:00:00.005000    -0.92620\n",
       "2       00:00:00.010000    -0.89620\n",
       "3       00:00:00.015000    -2.04195\n",
       "4       00:00:00.020000    -3.18770\n",
       "...                 ...         ...\n",
       "359994  00:29:59.970000   -29.32430\n",
       "359995  00:29:59.975000   -25.50690\n",
       "359996  00:29:59.980000   -21.68950\n",
       "359997  00:29:59.985000   -17.26165\n",
       "359998  00:29:59.990000   -12.83380\n",
       "\n",
       "[359999 rows x 2 columns]"
      ]
     },
     "execution_count": 7,
     "metadata": {},
     "output_type": "execute_result"
    }
   ],
   "source": [
    "timestamps = pd.date_range(start='2024-05-01', periods=len(exc1), freq='10ms')\n",
    "exc1['Timestamp'] = timestamps\n",
    "exc1.set_index('Timestamp', inplace=True)\n",
    "exc1_resampled = exc1.resample('5ms').interpolate(method='linear')\n",
    "exc1_resampled.reset_index(inplace=True)\n",
    "exc1_resampled['Timestamp'] = [t.strftime('%H:%M:%S.%f') for t in exc1_resampled['Timestamp']]\n",
    "\n",
    "exc1_resampled"
   ]
  },
  {
   "cell_type": "code",
   "execution_count": 8,
   "metadata": {},
   "outputs": [
    {
     "name": "stdout",
     "output_type": "stream",
     "text": [
      "Sampling frequency of the instance is already 200.0, returning unmodified.\n",
      "Sampling frequency of the instance is already 200.0, returning unmodified.\n",
      "Sampling frequency of the instance is already 200.0, returning unmodified.\n",
      "Sampling frequency of the instance is already 200.0, returning unmodified.\n",
      "Sampling frequency of the instance is already 200.0, returning unmodified.\n",
      "Sampling frequency of the instance is already 200.0, returning unmodified.\n"
     ]
    }
   ],
   "source": [
    "for i in datasets:\n",
    "    i.resample(200,npad='auto')"
   ]
  },
  {
   "cell_type": "code",
   "execution_count": 9,
   "metadata": {},
   "outputs": [
    {
     "name": "stdout",
     "output_type": "stream",
     "text": [
      "The channels are: ['ECG', 'FP1-A1', 'CZ-A1', 'EMG1', 'EOG1-A1', 'VTH', 'VAB', 'NAF2P-A1', 'NAF1', 'PHONO', 'PR', 'SAO2', 'PCPAP', 'POS', 'EOG2-A1', 'O1-A1', 'FP2-A1', 'O2-A1', 'CZ2-A1', 'EMG2', 'PULSE', 'VTOT', 'EMG3', 'hypnogram', 'event_pneumo', 'hypnogram_aut', 'event_pneumo_aut', 'event_neuro']\n",
      "The sampling frequency is: 200.0\n",
      "The channels are: ['O1-A1', 'EMG1', 'ECG', 'NAF1', 'VAB', 'VTH', 'C3-A1', 'FP1-A1', 'EOG2-A1', 'EOG1-A1', 'POS', 'PHONO', 'SAO2', 'PR', 'PULSE', 'hypnogram', 'event_pneumo', 'hypnogram_aut', 'event_pneumo_aut', 'event_neuro']\n",
      "The sampling frequency is: 200.0\n",
      "The channels are: ['ECG', 'FP1-A1', 'CZ-A1', 'EMG1', 'EOG1-A1', 'VTH', 'VAB', 'NAF2P-A1', 'NAF1', 'PHONO', 'PR', 'SAO2', 'PCPAP', 'POS', 'EOG2-A1', 'O1-A1', 'FP2-A1', 'O2-A1', 'CZ2-A1', 'EMG2', 'PULSE', 'VTOT', 'EMG3', 'hypnogram', 'event_pneumo', 'hypnogram_aut', 'event_pneumo_aut', 'event_neuro']\n",
      "The sampling frequency is: 200.0\n",
      "The channels are: ['ECG', 'FP1-A1', 'CZ-A1', 'EMG1', 'EOG1-A1', 'VTH', 'VAB', 'NAF2P-A1', 'NAF1', 'PHONO', 'PR', 'SAO2', 'PCPAP', 'POS', 'EOG2-A1', 'O1-A1', 'FP2-A1', 'O2-A1', 'CZ2-A1', 'EMG2', 'PULSE', 'VTOT', 'EMG3', 'hypnogram', 'event_pneumo', 'hypnogram_aut', 'event_pneumo_aut', 'event_neuro']\n",
      "The sampling frequency is: 200.0\n",
      "The channels are: ['ECG', 'FP1-A1', 'CZ-A1', 'EMG1', 'EOG1-A1', 'VTH', 'VAB', 'NAF2P-A1', 'NAF1', 'PHONO', 'PR', 'SAO2', 'PCPAP', 'POS', 'EOG2-A1', 'O1-A1', 'FP2-A1', 'O2-A1', 'CZ2-A1', 'EMG2', 'PULSE', 'EMG3', 'VTOT', 'hypnogram', 'event_pneumo', 'event_neuro', 'hypnogram_aut', 'event_pneumo_aut']\n",
      "The sampling frequency is: 200.0\n",
      "The channels are: ['ECG', 'FP1-A1', 'CZ-A1', 'EMG1', 'EOG1-A1', 'VTH', 'VAB', 'NAF2', 'NAF1', 'PHONO', 'PR', 'SAO2', 'PCPAP', 'POS', 'EOG2-A1', 'O1-A1', 'FP2-A1', 'O2-A1', 'EMG2', 'PULS-A1', 'ECG2-A1', 'VTOT', 'EMG3', 'hypnogram', 'event_pneumo', 'hypnogram_aut', 'event_pneumo_aut', 'event_neuro']\n",
      "The sampling frequency is: 200.0\n",
      "The channels are: ['ECG', 'FP1-A1', 'CZ-A1', 'EMG1', 'EOG1-A1', 'VTH', 'VAB', 'NAF2P-A1', 'NAF1', 'PHONO', 'PR', 'SAO2', 'PCPAP', 'POS', 'EOG2-A1', 'O1-A1', 'FP2-A1', 'O2-A1', 'CZ2-A1', 'EMG2', 'PULSE', 'VTOT', 'EMG3', 'hypnogram', 'event_pneumo', 'hypnogram_aut', 'event_pneumo_aut', 'event_neuro']\n",
      "The sampling frequency is: 200.0\n"
     ]
    }
   ],
   "source": [
    "for i in datasets:\n",
    "    print('The channels are:', i.ch_names)\n",
    "    print('The sampling frequency is:', i.info['sfreq'])"
   ]
  },
  {
   "cell_type": "code",
   "execution_count": 10,
   "metadata": {},
   "outputs": [
    {
     "name": "stdout",
     "output_type": "stream",
     "text": [
      "<RawEDF | excerpt2.edf, 28 x 360000 (1800.0 s), ~76.9 MB, data loaded>\n",
      "ch  name              type  unit        min         Q1     median         Q3        max\n",
      " 0  ECG               EEG   µV    -156000000.00  -6546370.97  -1325545.54  10896386.78  96989998.42\n",
      " 1  FP1-A1            EEG   µV    -327660000.00  -14980000.00  350000.00  15770000.00  261000000.00\n",
      " 2  CZ-A1             EEG   µV    -328133058.18  -15044901.08  -21150.65  14952587.28  284989997.50\n",
      " 3  EMG1              EEG   µV    -78990007.07  -755324.52  -155748.46  433834.66  118990007.07\n",
      " 4  EOG1-A1           EEG   µV    -328036398.18  -8192390.38  -462776.86  8006799.66  327280835.96\n",
      " 5  VTH               EEG   µV    -1000000.00  -39647.58   22026.43   83700.44  991189.43\n",
      " 6  VAB               EEG   µV         0.00  375000.00  412500.00  450000.00  987500.00\n",
      " 7  NAF2P-A1          EEG   µV     18518.52  740740.74  740740.74  740740.74  981481.48\n",
      " 8  NAF1              EEG   µV    -989436.62   98591.55  246478.87  362676.06  1989436.62\n",
      " 9  PHONO             EEG   µV    -986842.11  131578.95  131578.95  131578.95  986842.11\n",
      "10  PR                EEG   µV         0.00  250000.00  250000.00  250000.00  990384.62\n",
      "11  SAO2              EEG   µV         0.00  250000.00  250000.00  250000.00  1000000.00\n",
      "12  PCPAP             EEG   µV         0.00  600000.00  600000.00  600000.00  800000.00\n",
      "13  POS               EEG   µV    166666.67  333333.33  333333.33  333333.33  833333.33\n",
      "14  EOG2-A1           EEG   µV    -327934541.51  -13678026.20  201536.49  14721540.43  327867290.46\n",
      "15  O1-A1             EEG   µV    -327917772.80  -15271677.30  -174280.30  15153077.06  264990001.72\n",
      "16  FP2-A1            EEG   µV         0.00  500000.00  500000.00  500000.00  1000000.00\n",
      "17  O2-A1             EEG   µV         0.00  500000.00  500000.00  500000.00  1000000.00\n",
      "18  CZ2-A1            EEG   µV    142857.14  571428.57  571428.57  571428.57  1000000.00\n",
      "19  EMG2              EEG   µV    -52989991.89  -637543.95  -157154.45  333243.17  58000000.00\n",
      "20  PULSE             EEG   µV    -2000000.00  145132.74  219469.03  421238.94  4000000.00\n",
      "21  VTOT              EEG   µV    -1000000.00  -32258.06   32258.06   96774.19  1000000.00\n",
      "22  EMG3              EEG   µV    -155000000.00  -1092801.07  -342912.16  406976.74  114990001.48\n",
      "23  hypnogram         EEG   µV    -688089.36  999640.35  1999019.93  2000355.37  5724953.72\n",
      "24  event_pneumo      EEG   µV         0.00       0.00       0.00       0.00       0.00\n",
      "25  hypnogram_aut     EEG   µV    -1296133.19     823.09  1002885.35  1997795.39  5730759.90\n",
      "26  event_pneumo_aut  EEG   µV         0.00       0.00       0.00       0.00       0.00\n",
      "27  event_neuro       EEG   µV    -1032675.48   -1662.12      26.98    2029.58  7109717.04\n"
     ]
    }
   ],
   "source": [
    "datasets[0].describe()"
   ]
  },
  {
   "cell_type": "markdown",
   "metadata": {},
   "source": [
    "To avoid two different format of the data during the analysis we converted all of them into a pandas dataframe."
   ]
  },
  {
   "cell_type": "code",
   "execution_count": 11,
   "metadata": {},
   "outputs": [
    {
     "data": {
      "text/html": [
       "<div>\n",
       "<style scoped>\n",
       "    .dataframe tbody tr th:only-of-type {\n",
       "        vertical-align: middle;\n",
       "    }\n",
       "\n",
       "    .dataframe tbody tr th {\n",
       "        vertical-align: top;\n",
       "    }\n",
       "\n",
       "    .dataframe thead th {\n",
       "        text-align: right;\n",
       "    }\n",
       "</style>\n",
       "<table border=\"1\" class=\"dataframe\">\n",
       "  <thead>\n",
       "    <tr style=\"text-align: right;\">\n",
       "      <th></th>\n",
       "      <th>EEG_Signal</th>\n",
       "      <th>Timestamp</th>\n",
       "    </tr>\n",
       "  </thead>\n",
       "  <tbody>\n",
       "    <tr>\n",
       "      <th>0</th>\n",
       "      <td>-1.831603</td>\n",
       "      <td>0.000</td>\n",
       "    </tr>\n",
       "    <tr>\n",
       "      <th>1</th>\n",
       "      <td>-4.192192</td>\n",
       "      <td>0.005</td>\n",
       "    </tr>\n",
       "    <tr>\n",
       "      <th>2</th>\n",
       "      <td>-5.932626</td>\n",
       "      <td>0.010</td>\n",
       "    </tr>\n",
       "    <tr>\n",
       "      <th>3</th>\n",
       "      <td>-7.593041</td>\n",
       "      <td>0.015</td>\n",
       "    </tr>\n",
       "    <tr>\n",
       "      <th>4</th>\n",
       "      <td>-8.173186</td>\n",
       "      <td>0.020</td>\n",
       "    </tr>\n",
       "    <tr>\n",
       "      <th>...</th>\n",
       "      <td>...</td>\n",
       "      <td>...</td>\n",
       "    </tr>\n",
       "    <tr>\n",
       "      <th>359995</th>\n",
       "      <td>-0.111173</td>\n",
       "      <td>1799.975</td>\n",
       "    </tr>\n",
       "    <tr>\n",
       "      <th>359996</th>\n",
       "      <td>-1.571538</td>\n",
       "      <td>1799.980</td>\n",
       "    </tr>\n",
       "    <tr>\n",
       "      <th>359997</th>\n",
       "      <td>-1.991643</td>\n",
       "      <td>1799.985</td>\n",
       "    </tr>\n",
       "    <tr>\n",
       "      <th>359998</th>\n",
       "      <td>-0.931378</td>\n",
       "      <td>1799.990</td>\n",
       "    </tr>\n",
       "    <tr>\n",
       "      <th>359999</th>\n",
       "      <td>0.068872</td>\n",
       "      <td>1799.995</td>\n",
       "    </tr>\n",
       "  </tbody>\n",
       "</table>\n",
       "<p>360000 rows × 2 columns</p>\n",
       "</div>"
      ],
      "text/plain": [
       "        EEG_Signal  Timestamp\n",
       "0        -1.831603      0.000\n",
       "1        -4.192192      0.005\n",
       "2        -5.932626      0.010\n",
       "3        -7.593041      0.015\n",
       "4        -8.173186      0.020\n",
       "...            ...        ...\n",
       "359995   -0.111173   1799.975\n",
       "359996   -1.571538   1799.980\n",
       "359997   -1.991643   1799.985\n",
       "359998   -0.931378   1799.990\n",
       "359999    0.068872   1799.995\n",
       "\n",
       "[360000 rows x 2 columns]"
      ]
     },
     "execution_count": 11,
     "metadata": {},
     "output_type": "execute_result"
    }
   ],
   "source": [
    "annotated_channels = ['CZ-A1', 'C3-A1', 'CZ-A1', 'CZ-A1', 'CZ-A1', 'CZ-A1', 'CZ-A1']\n",
    "dfs = []\n",
    "dfs.append(exc1_resampled)\n",
    "for i in range(len(datasets)):\n",
    "    eeg_signal = datasets[i][annotated_channels[i]][0].flatten()\n",
    "    timestamps = datasets[i][annotated_channels[i]][1]\n",
    "    dfs.append(pd.DataFrame({'EEG_Signal': eeg_signal, 'Timestamp': timestamps}))\n",
    "dfs[1]"
   ]
  },
  {
   "cell_type": "code",
   "execution_count": 12,
   "metadata": {},
   "outputs": [],
   "source": [
    "dfs[0]['Timestamp']=dfs[1]['Timestamp']"
   ]
  },
  {
   "cell_type": "code",
   "execution_count": 13,
   "metadata": {},
   "outputs": [
    {
     "data": {
      "text/plain": [
       "count    360000.000000\n",
       "mean         -0.370154\n",
       "std          29.247577\n",
       "min        -328.133058\n",
       "25%         -15.044901\n",
       "50%          -0.021151\n",
       "75%          14.952587\n",
       "max         284.989998\n",
       "Name: EEG_Signal, dtype: float64"
      ]
     },
     "execution_count": 13,
     "metadata": {},
     "output_type": "execute_result"
    }
   ],
   "source": [
    "dfs[1]['EEG_Signal'].describe()"
   ]
  },
  {
   "cell_type": "markdown",
   "metadata": {},
   "source": [
    "## Filter Applicaton\n",
    "Segmenting applies a Butterworth bandpass filter with specific low and high frequency limits to EEG signals in a dataset, effectively isolating the frequency components between 0.3 and 35 Hz for focused analysis, and stores the filtered signals in a new DataFrame."
   ]
  },
  {
   "cell_type": "markdown",
   "metadata": {},
   "source": [
    "The `butter_bandpass` function creates a Butterworth bandpass filter, crucial for isolating specific EEG frequency bands by setting lower and upper frequency limits and the filter's order."
   ]
  },
  {
   "cell_type": "code",
   "execution_count": 14,
   "metadata": {},
   "outputs": [],
   "source": [
    "def butter_bandpass(lowcut, highcut, fs, order=5):\n",
    "    nyq = 0.5 * fs\n",
    "    low = lowcut / nyq\n",
    "    high = highcut / nyq\n",
    "    b, a = butter(order, [low, high], btype='band')\n",
    "    return b, a"
   ]
  },
  {
   "cell_type": "markdown",
   "metadata": {},
   "source": [
    "The `butter_bandpass_filter` function applies a Butterworth bandpass filter to data, using specified cutoff frequencies and filter order to remove unwanted frequencies and enhance signal analysis."
   ]
  },
  {
   "cell_type": "code",
   "execution_count": 15,
   "metadata": {},
   "outputs": [],
   "source": [
    "def butter_bandpass_filter(data, lowcut, highcut, fs, order=5):\n",
    "    b, a = butter_bandpass(lowcut, highcut, fs, order=order)\n",
    "    y = filtfilt(b, a, data)\n",
    "    return y"
   ]
  },
  {
   "cell_type": "code",
   "execution_count": 16,
   "metadata": {},
   "outputs": [
    {
     "data": {
      "text/html": [
       "<div>\n",
       "<style scoped>\n",
       "    .dataframe tbody tr th:only-of-type {\n",
       "        vertical-align: middle;\n",
       "    }\n",
       "\n",
       "    .dataframe tbody tr th {\n",
       "        vertical-align: top;\n",
       "    }\n",
       "\n",
       "    .dataframe thead th {\n",
       "        text-align: right;\n",
       "    }\n",
       "</style>\n",
       "<table border=\"1\" class=\"dataframe\">\n",
       "  <thead>\n",
       "    <tr style=\"text-align: right;\">\n",
       "      <th></th>\n",
       "      <th>EEG_Signal</th>\n",
       "      <th>Timestamp</th>\n",
       "    </tr>\n",
       "  </thead>\n",
       "  <tbody>\n",
       "    <tr>\n",
       "      <th>0</th>\n",
       "      <td>0.531791</td>\n",
       "      <td>0.000</td>\n",
       "    </tr>\n",
       "    <tr>\n",
       "      <th>1</th>\n",
       "      <td>0.536231</td>\n",
       "      <td>0.005</td>\n",
       "    </tr>\n",
       "    <tr>\n",
       "      <th>2</th>\n",
       "      <td>0.222541</td>\n",
       "      <td>0.010</td>\n",
       "    </tr>\n",
       "    <tr>\n",
       "      <th>3</th>\n",
       "      <td>-0.499366</td>\n",
       "      <td>0.015</td>\n",
       "    </tr>\n",
       "    <tr>\n",
       "      <th>4</th>\n",
       "      <td>-1.455266</td>\n",
       "      <td>0.020</td>\n",
       "    </tr>\n",
       "  </tbody>\n",
       "</table>\n",
       "</div>"
      ],
      "text/plain": [
       "   EEG_Signal  Timestamp\n",
       "0    0.531791      0.000\n",
       "1    0.536231      0.005\n",
       "2    0.222541      0.010\n",
       "3   -0.499366      0.015\n",
       "4   -1.455266      0.020"
      ]
     },
     "execution_count": 16,
     "metadata": {},
     "output_type": "execute_result"
    }
   ],
   "source": [
    "lowcut = 0.3  \n",
    "highcut = 35 \n",
    "fs = 200   \n",
    "filtered_dfs = []   \n",
    "\n",
    "for i in dfs:\n",
    "    filtered_signal = butter_bandpass_filter(i['EEG_Signal'], lowcut, highcut, fs)\n",
    "    filtered_dfs.append(pd.DataFrame({'EEG_Signal': filtered_signal, 'Timestamp': i['Timestamp']}))\n",
    "    \n",
    "filtered_dfs[0].head()"
   ]
  },
  {
   "cell_type": "code",
   "execution_count": 17,
   "metadata": {},
   "outputs": [
    {
     "data": {
      "image/png": "[encoded data removed]",
      "text/plain": [
       "<Figure size 1800x500 with 1 Axes>"
      ]
     },
     "metadata": {},
     "output_type": "display_data"
    }
   ],
   "source": [
    "plt.figure(figsize=(18,5))\n",
    "plt.plot(dfs[0]['Timestamp'], dfs[0]['EEG_Signal'], label = 'original signal')\n",
    "plt.plot(filtered_dfs[0]['Timestamp'],filtered_dfs[0]['EEG_Signal'], label = 'filtered signal')\n",
    "plt.legend()\n",
    "plt.xlabel(\"Time [s]\")\n",
    "plt.ylabel(\"Amplitude [mV]\")\n",
    "plt.title(\"ecg_lfn filtered\")\n",
    "plt.show()"
   ]
  },
  {
   "cell_type": "markdown",
   "metadata": {},
   "source": [
    "The graph displays an EEG signal before and after applying a bandpass filter, highlighting the filter's efficacy in reducing noise and enhancing signal clarity. The filtered signal (in orange) shows a significant reduction in amplitude variability compared to the original (in blue), particularly evident during high-amplitude spikes, demonstrating the filter's role in isolating relevant EEG frequencies for analysis."
   ]
  },
  {
   "cell_type": "markdown",
   "metadata": {},
   "source": [
    "## Load the visual scoring\n",
    "Initializes and populates lists for visual scoring data from two sets of text files, mapping sleep spindle annotations to EEG channel data and transforming file paths for accessibility. It reads, reformats, and stores the data for further processing, crucial for aligning expert annotations with the corresponding EEG signals in sleep studies."
   ]
  },
  {
   "cell_type": "code",
   "execution_count": 18,
   "metadata": {},
   "outputs": [
    {
     "data": {
      "text/html": [
       "<div>\n",
       "<style scoped>\n",
       "    .dataframe tbody tr th:only-of-type {\n",
       "        vertical-align: middle;\n",
       "    }\n",
       "\n",
       "    .dataframe tbody tr th {\n",
       "        vertical-align: top;\n",
       "    }\n",
       "\n",
       "    .dataframe thead th {\n",
       "        text-align: right;\n",
       "    }\n",
       "</style>\n",
       "<table border=\"1\" class=\"dataframe\">\n",
       "  <thead>\n",
       "    <tr style=\"text-align: right;\">\n",
       "      <th></th>\n",
       "      <th>beginning</th>\n",
       "      <th>duration</th>\n",
       "    </tr>\n",
       "  </thead>\n",
       "  <tbody>\n",
       "    <tr>\n",
       "      <th>0</th>\n",
       "      <td>282.24</td>\n",
       "      <td>0.72</td>\n",
       "    </tr>\n",
       "    <tr>\n",
       "      <th>1</th>\n",
       "      <td>311.72</td>\n",
       "      <td>1.54</td>\n",
       "    </tr>\n",
       "    <tr>\n",
       "      <th>2</th>\n",
       "      <td>340.28</td>\n",
       "      <td>0.72</td>\n",
       "    </tr>\n",
       "    <tr>\n",
       "      <th>3</th>\n",
       "      <td>366.83</td>\n",
       "      <td>0.65</td>\n",
       "    </tr>\n",
       "    <tr>\n",
       "      <th>4</th>\n",
       "      <td>373.74</td>\n",
       "      <td>0.50</td>\n",
       "    </tr>\n",
       "  </tbody>\n",
       "</table>\n",
       "</div>"
      ],
      "text/plain": [
       "   beginning  duration\n",
       "0     282.24      0.72\n",
       "1     311.72      1.54\n",
       "2     340.28      0.72\n",
       "3     366.83      0.65\n",
       "4     373.74      0.50"
      ]
     },
     "execution_count": 18,
     "metadata": {},
     "output_type": "execute_result"
    }
   ],
   "source": [
    "file_names_1 = [\n",
    "    \"Visual_scoring1_excerpt1.txt\", \"Visual_scoring1_excerpt2.txt\", \"Visual_scoring1_excerpt3.txt\",\n",
    "    \"Visual_scoring1_excerpt4.txt\", \"Visual_scoring1_excerpt5.txt\", \"Visual_scoring1_excerpt6.txt\",\n",
    "    \"Visual_scoring1_excerpt7.txt\", \"Visual_scoring1_excerpt8.txt\"\n",
    "]\n",
    "file_names_2 = [\n",
    "    \"Visual_scoring2_excerpt1.txt\", \"Visual_scoring2_excerpt2.txt\", \"Visual_scoring2_excerpt3.txt\", \n",
    "    \"Visual_scoring2_excerpt4.txt\", \"Visual_scoring2_excerpt5.txt\", \"Visual_scoring2_excerpt6.txt\"\n",
    "]\n",
    "\n",
    "file_names_1 = ['dataset/' + file_name for file_name in file_names_1]\n",
    "file_names_2 = ['dataset/' + file_name for file_name in file_names_2]\n",
    "\n",
    "annotated_channels = ['C3-A1', 'CZ-A1', 'C3-A1', 'CZ-A1', 'CZ-A1', 'CZ-A1', 'CZ-A1', 'CZ-A1']\n",
    "\n",
    "vs1 = []\n",
    "vs2 = []\n",
    "\n",
    "for i in range(len(file_names_1)):\n",
    "    vs1.append(pd.read_csv(file_names_1[i], sep='\\t').reset_index().rename(columns={'index': 'beginning', f'[vis1_Spindles/{annotated_channels[i]}]': 'duration'}))\n",
    "    \n",
    "for i in range(len(file_names_2)):\n",
    "    vs2.append(pd.read_csv(file_names_2[i], sep='\\t').reset_index().rename(columns={'index': 'beginning', f'[vis2_Spindles/{annotated_channels[i]}]': 'duration'}))\n",
    "    \n",
    "vs1[0].head()"
   ]
  },
  {
   "cell_type": "code",
   "execution_count": 19,
   "metadata": {},
   "outputs": [
    {
     "data": {
      "text/html": [
       "<div>\n",
       "<style scoped>\n",
       "    .dataframe tbody tr th:only-of-type {\n",
       "        vertical-align: middle;\n",
       "    }\n",
       "\n",
       "    .dataframe tbody tr th {\n",
       "        vertical-align: top;\n",
       "    }\n",
       "\n",
       "    .dataframe thead th {\n",
       "        text-align: right;\n",
       "    }\n",
       "</style>\n",
       "<table border=\"1\" class=\"dataframe\">\n",
       "  <thead>\n",
       "    <tr style=\"text-align: right;\">\n",
       "      <th></th>\n",
       "      <th>beginning</th>\n",
       "      <th>duration</th>\n",
       "    </tr>\n",
       "  </thead>\n",
       "  <tbody>\n",
       "    <tr>\n",
       "      <th>0</th>\n",
       "      <td>396.56</td>\n",
       "      <td>1.0</td>\n",
       "    </tr>\n",
       "    <tr>\n",
       "      <th>1</th>\n",
       "      <td>422.69</td>\n",
       "      <td>1.0</td>\n",
       "    </tr>\n",
       "    <tr>\n",
       "      <th>2</th>\n",
       "      <td>437.38</td>\n",
       "      <td>1.0</td>\n",
       "    </tr>\n",
       "    <tr>\n",
       "      <th>3</th>\n",
       "      <td>440.77</td>\n",
       "      <td>1.0</td>\n",
       "    </tr>\n",
       "    <tr>\n",
       "      <th>4</th>\n",
       "      <td>524.98</td>\n",
       "      <td>1.0</td>\n",
       "    </tr>\n",
       "  </tbody>\n",
       "</table>\n",
       "</div>"
      ],
      "text/plain": [
       "   beginning  duration\n",
       "0     396.56       1.0\n",
       "1     422.69       1.0\n",
       "2     437.38       1.0\n",
       "3     440.77       1.0\n",
       "4     524.98       1.0"
      ]
     },
     "execution_count": 19,
     "metadata": {},
     "output_type": "execute_result"
    }
   ],
   "source": [
    "vs2[0].head()"
   ]
  },
  {
   "cell_type": "markdown",
   "metadata": {},
   "source": [
    "## Load labels\n",
    "Checking the existence of a specific labeled dataset file, if it exists, the datasets are loaded, if not, the datasets are generated by labeling the filtered data and then saved as CSV files, facilitating both data reuse and initial dataset creation."
   ]
  },
  {
   "cell_type": "markdown",
   "metadata": {},
   "source": [
    "The `label_epochs` function labels EEG epochs as containing a sleep spindle (1) or not (0) by checking each timestamp against spindle event timings in a dataframe, effectively creating a binary label for each epoch based on spindle presence."
   ]
  },
  {
   "cell_type": "code",
   "execution_count": 20,
   "metadata": {},
   "outputs": [],
   "source": [
    "def label_epochs(eeg_timestamp, spindle_df):\n",
    "    labels = []\n",
    "    for timestamp in tqdm(eeg_timestamp, desc='Labeling epochs'):\n",
    "        spindle_events = spindle_df[spindle_df['beginning'] <= timestamp]\n",
    "        spindle_events = spindle_events[spindle_events['beginning'] + spindle_events['duration'] >= timestamp]\n",
    "        if not spindle_events.empty:\n",
    "            labels.append(1)\n",
    "        else:\n",
    "            labels.append(0) \n",
    "    return labels"
   ]
  },
  {
   "cell_type": "markdown",
   "metadata": {},
   "source": [
    "The `label_dataset` function annotates a dataset with sleep spindle presence by applying labels to each epoch across multiple recordings, enhancing the dataset with binary labels that indicate whether each epoch contains a sleep spindle, based on expert scoring."
   ]
  },
  {
   "cell_type": "code",
   "execution_count": 21,
   "metadata": {},
   "outputs": [],
   "source": [
    "def label_dataset(scoring_df,signal_df):\n",
    "    ldfs = []\n",
    "    for i in range(len(scoring_df)):\n",
    "        labels = label_epochs(signal_df[i]['Timestamp'], scoring_df[i])\n",
    "        ldf = signal_df[i].copy()\n",
    "        ldf['Label'] = labels\n",
    "        ldfs.append(ldf)\n",
    "    return ldfs"
   ]
  },
  {
   "cell_type": "markdown",
   "metadata": {},
   "source": [
    "The `load_datasets` loads a series of datasets sequentially numbered and stored as CSV files, checking for their existence and reading them into a list, thus enabling batch processing of similarly structured data files."
   ]
  },
  {
   "cell_type": "code",
   "execution_count": 22,
   "metadata": {},
   "outputs": [],
   "source": [
    "def load_datasets(file_name):\n",
    "    datasets = []\n",
    "    idx = 0\n",
    "    while os.path.exists(f\"{file_name}_{idx}.csv\"):\n",
    "        datasets.append(pd.read_csv(f\"{file_name}_{idx}.csv\"))\n",
    "        idx += 1\n",
    "    return datasets"
   ]
  },
  {
   "cell_type": "code",
   "execution_count": 23,
   "metadata": {},
   "outputs": [
    {
     "name": "stdout",
     "output_type": "stream",
     "text": [
      "File labeled1_dataset_0.csv exists.\n"
     ]
    }
   ],
   "source": [
    "if os.path.exists('labeled1_dataset_0.csv'):\n",
    "    print(\"File labeled1_dataset_0.csv exists.\")\n",
    "    labeled1_dfs = load_datasets('labeled1_dataset')\n",
    "    labeled2_dfs = load_datasets('labeled2_dataset')\n",
    "else:\n",
    "    print(\"File labeled1_dataset_0.csv does not exist.\")\n",
    "    labeled1_dfs = label_dataset(vs1, filtered_dfs)\n",
    "    for idx, df in enumerate(labeled1_dfs):\n",
    "        df.to_csv(f\"labeled1_dataset_{idx}.csv\", index=False)\n",
    "    labeled2_dfs = label_dataset(vs2, filtered_dfs)\n",
    "    for idx, df in enumerate(labeled2_dfs):\n",
    "        df.to_csv(f\"labeled2_dataset_{idx}.csv\", index=False)"
   ]
  },
  {
   "cell_type": "code",
   "execution_count": 24,
   "metadata": {},
   "outputs": [
    {
     "data": {
      "text/html": [
       "<div>\n",
       "<style scoped>\n",
       "    .dataframe tbody tr th:only-of-type {\n",
       "        vertical-align: middle;\n",
       "    }\n",
       "\n",
       "    .dataframe tbody tr th {\n",
       "        vertical-align: top;\n",
       "    }\n",
       "\n",
       "    .dataframe thead th {\n",
       "        text-align: right;\n",
       "    }\n",
       "</style>\n",
       "<table border=\"1\" class=\"dataframe\">\n",
       "  <thead>\n",
       "    <tr style=\"text-align: right;\">\n",
       "      <th></th>\n",
       "      <th>EEG_Signal</th>\n",
       "      <th>Timestamp</th>\n",
       "      <th>Label</th>\n",
       "    </tr>\n",
       "  </thead>\n",
       "  <tbody>\n",
       "    <tr>\n",
       "      <th>0</th>\n",
       "      <td>0.531805</td>\n",
       "      <td>0.000</td>\n",
       "      <td>0</td>\n",
       "    </tr>\n",
       "    <tr>\n",
       "      <th>1</th>\n",
       "      <td>0.536246</td>\n",
       "      <td>0.005</td>\n",
       "      <td>0</td>\n",
       "    </tr>\n",
       "    <tr>\n",
       "      <th>2</th>\n",
       "      <td>0.222555</td>\n",
       "      <td>0.010</td>\n",
       "      <td>0</td>\n",
       "    </tr>\n",
       "    <tr>\n",
       "      <th>3</th>\n",
       "      <td>-0.499351</td>\n",
       "      <td>0.015</td>\n",
       "      <td>0</td>\n",
       "    </tr>\n",
       "    <tr>\n",
       "      <th>4</th>\n",
       "      <td>-1.455252</td>\n",
       "      <td>0.020</td>\n",
       "      <td>0</td>\n",
       "    </tr>\n",
       "    <tr>\n",
       "      <th>...</th>\n",
       "      <td>...</td>\n",
       "      <td>...</td>\n",
       "      <td>...</td>\n",
       "    </tr>\n",
       "    <tr>\n",
       "      <th>359994</th>\n",
       "      <td>-18.837096</td>\n",
       "      <td>1799.970</td>\n",
       "      <td>0</td>\n",
       "    </tr>\n",
       "    <tr>\n",
       "      <th>359995</th>\n",
       "      <td>-14.980448</td>\n",
       "      <td>1799.975</td>\n",
       "      <td>0</td>\n",
       "    </tr>\n",
       "    <tr>\n",
       "      <th>359996</th>\n",
       "      <td>-10.988601</td>\n",
       "      <td>1799.980</td>\n",
       "      <td>0</td>\n",
       "    </tr>\n",
       "    <tr>\n",
       "      <th>359997</th>\n",
       "      <td>-7.131446</td>\n",
       "      <td>1799.985</td>\n",
       "      <td>0</td>\n",
       "    </tr>\n",
       "    <tr>\n",
       "      <th>359998</th>\n",
       "      <td>-3.401467</td>\n",
       "      <td>1799.990</td>\n",
       "      <td>0</td>\n",
       "    </tr>\n",
       "  </tbody>\n",
       "</table>\n",
       "<p>359999 rows × 3 columns</p>\n",
       "</div>"
      ],
      "text/plain": [
       "        EEG_Signal  Timestamp  Label\n",
       "0         0.531805      0.000      0\n",
       "1         0.536246      0.005      0\n",
       "2         0.222555      0.010      0\n",
       "3        -0.499351      0.015      0\n",
       "4        -1.455252      0.020      0\n",
       "...            ...        ...    ...\n",
       "359994  -18.837096   1799.970      0\n",
       "359995  -14.980448   1799.975      0\n",
       "359996  -10.988601   1799.980      0\n",
       "359997   -7.131446   1799.985      0\n",
       "359998   -3.401467   1799.990      0\n",
       "\n",
       "[359999 rows x 3 columns]"
      ]
     },
     "execution_count": 24,
     "metadata": {},
     "output_type": "execute_result"
    }
   ],
   "source": [
    "labeled1_dfs[0]"
   ]
  },
  {
   "cell_type": "markdown",
   "metadata": {},
   "source": [
    "since all the scoring from visual_scoring1 stop finding spindles after about timestamp=1000 we delete the rows after"
   ]
  },
  {
   "cell_type": "code",
   "execution_count": 25,
   "metadata": {},
   "outputs": [
    {
     "data": {
      "text/html": [
       "<div>\n",
       "<style scoped>\n",
       "    .dataframe tbody tr th:only-of-type {\n",
       "        vertical-align: middle;\n",
       "    }\n",
       "\n",
       "    .dataframe tbody tr th {\n",
       "        vertical-align: top;\n",
       "    }\n",
       "\n",
       "    .dataframe thead th {\n",
       "        text-align: right;\n",
       "    }\n",
       "</style>\n",
       "<table border=\"1\" class=\"dataframe\">\n",
       "  <thead>\n",
       "    <tr style=\"text-align: right;\">\n",
       "      <th></th>\n",
       "      <th>EEG_Signal</th>\n",
       "      <th>Timestamp</th>\n",
       "      <th>Label</th>\n",
       "    </tr>\n",
       "  </thead>\n",
       "  <tbody>\n",
       "    <tr>\n",
       "      <th>0</th>\n",
       "      <td>0.531805</td>\n",
       "      <td>0.000</td>\n",
       "      <td>0</td>\n",
       "    </tr>\n",
       "    <tr>\n",
       "      <th>1</th>\n",
       "      <td>0.536246</td>\n",
       "      <td>0.005</td>\n",
       "      <td>0</td>\n",
       "    </tr>\n",
       "    <tr>\n",
       "      <th>2</th>\n",
       "      <td>0.222555</td>\n",
       "      <td>0.010</td>\n",
       "      <td>0</td>\n",
       "    </tr>\n",
       "    <tr>\n",
       "      <th>3</th>\n",
       "      <td>-0.499351</td>\n",
       "      <td>0.015</td>\n",
       "      <td>0</td>\n",
       "    </tr>\n",
       "    <tr>\n",
       "      <th>4</th>\n",
       "      <td>-1.455252</td>\n",
       "      <td>0.020</td>\n",
       "      <td>0</td>\n",
       "    </tr>\n",
       "    <tr>\n",
       "      <th>...</th>\n",
       "      <td>...</td>\n",
       "      <td>...</td>\n",
       "      <td>...</td>\n",
       "    </tr>\n",
       "    <tr>\n",
       "      <th>199995</th>\n",
       "      <td>-10.236773</td>\n",
       "      <td>999.975</td>\n",
       "      <td>0</td>\n",
       "    </tr>\n",
       "    <tr>\n",
       "      <th>199996</th>\n",
       "      <td>-9.346134</td>\n",
       "      <td>999.980</td>\n",
       "      <td>0</td>\n",
       "    </tr>\n",
       "    <tr>\n",
       "      <th>199997</th>\n",
       "      <td>-9.203474</td>\n",
       "      <td>999.985</td>\n",
       "      <td>0</td>\n",
       "    </tr>\n",
       "    <tr>\n",
       "      <th>199998</th>\n",
       "      <td>-10.215466</td>\n",
       "      <td>999.990</td>\n",
       "      <td>0</td>\n",
       "    </tr>\n",
       "    <tr>\n",
       "      <th>199999</th>\n",
       "      <td>-12.205534</td>\n",
       "      <td>999.995</td>\n",
       "      <td>0</td>\n",
       "    </tr>\n",
       "  </tbody>\n",
       "</table>\n",
       "<p>200000 rows × 3 columns</p>\n",
       "</div>"
      ],
      "text/plain": [
       "        EEG_Signal  Timestamp  Label\n",
       "0         0.531805      0.000      0\n",
       "1         0.536246      0.005      0\n",
       "2         0.222555      0.010      0\n",
       "3        -0.499351      0.015      0\n",
       "4        -1.455252      0.020      0\n",
       "...            ...        ...    ...\n",
       "199995  -10.236773    999.975      0\n",
       "199996   -9.346134    999.980      0\n",
       "199997   -9.203474    999.985      0\n",
       "199998  -10.215466    999.990      0\n",
       "199999  -12.205534    999.995      0\n",
       "\n",
       "[200000 rows x 3 columns]"
      ]
     },
     "execution_count": 25,
     "metadata": {},
     "output_type": "execute_result"
    }
   ],
   "source": [
    "for i in range(len(labeled1_dfs)):\n",
    "    labeled1_dfs[i] = labeled1_dfs[i][labeled1_dfs[i]['Timestamp'] < 1000]\n",
    "labeled1_dfs[0]"
   ]
  },
  {
   "cell_type": "markdown",
   "metadata": {},
   "source": [
    "## Feature Extraction & Windowing\n",
    "\n",
    "Iteratively processing EEG data from multiple datasets using the `FeatureExtractor` class, extracting an array of features crucial for sleep spindle detection or other analyses. Each dataset is processed to compute and compile a DataFrame of features, which are stored in a list, enabling comprehensive analysis and model training.\n",
    "\n",
    "The `FeatureExtractor` class is designed for advanced EEG data analysis. It initializes by segmenting the data into time windows and then computes a comprehensive set of features including statistical measures, spectral properties, and nonlinear dynamics for each window. This facilitates detailed characterizations of EEG signals, crucial for tasks like identifying sleep spindles or diagnosing neurological disorders."
   ]
  },
  {
   "cell_type": "code",
   "execution_count": 26,
   "metadata": {},
   "outputs": [],
   "source": [
    "class FeatureExtractor:\n",
    "    def __init__(self, data, sampling_freq=200, window_size=0.5):\n",
    "        self.sampling_freq = sampling_freq\n",
    "        self.__windowed_data = self._window_data(data, window_size)\n",
    "\n",
    "    def _window_data(self, data, window_size):\n",
    "        windowed_data = np.array([\n",
    "            data[int(window_idx * window_size * self.sampling_freq):\n",
    "                 int((window_idx + 1) * window_size * self.sampling_freq)]\n",
    "            for window_idx in range(len(data) // int(self.sampling_freq * window_size))\n",
    "        ])\n",
    "        return windowed_data\n",
    "\n",
    "    def _sample_entropy(self):\n",
    "        sample_entropies = []\n",
    "        for w_data in self.__windowed_data:\n",
    "            sample_entropies.append(nolds.sampen(w_data))\n",
    "        return sample_entropies\n",
    "\n",
    "    def _variance(self):\n",
    "        variances = []\n",
    "        for w_data in self.__windowed_data:\n",
    "            variances.append(np.var(w_data))\n",
    "        return variances\n",
    "\n",
    "    def _standard_deviation(self):\n",
    "        std_deviations = []\n",
    "        for w_data in self.__windowed_data:\n",
    "            std_deviations.append(np.std(w_data))\n",
    "        return std_deviations\n",
    "\n",
    "    def _instantaneous_frequency(self):\n",
    "        inst_freq = []\n",
    "        for w_data in self.__windowed_data:\n",
    "            analytic_signal = hilbert(w_data)\n",
    "            instantaneous_phase = np.unwrap(np.angle(analytic_signal))\n",
    "            instantaneous_frequency = (np.diff(instantaneous_phase) / (2.0*np.pi)) * self.sampling_freq\n",
    "            mean_inst_freq = np.mean(instantaneous_frequency)\n",
    "            inst_freq.append(mean_inst_freq)\n",
    "        return inst_freq\n",
    "\n",
    "    def _pac(self):\n",
    "        pac = []\n",
    "        for w_data in self.__windowed_data:\n",
    "            _, _, Sxx = spectrogram(w_data, fs=self.sampling_freq)\n",
    "            v = np.sum(Sxx[11:17, :]) / np.sum(Sxx)\n",
    "            pac.extend([v] * 8)\n",
    "        return pac\n",
    "\n",
    "    def _energy_ratio(self):\n",
    "        energy_ratio = []\n",
    "        for w_data in self.__windowed_data:\n",
    "            total_energy = np.sum(w_data ** 2)\n",
    "            spindle_energy = np.sum(w_data ** 2)\n",
    "            energy_ratio.append(spindle_energy / total_energy)\n",
    "        return energy_ratio\n",
    "\n",
    "    def _peak_power(self):\n",
    "        power_peak = []\n",
    "        for w_data in self.__windowed_data:\n",
    "            frequencies, power = welch(w_data, self.sampling_freq)\n",
    "            freq_indices = np.where((frequencies >= 11) & (frequencies <= 14))\n",
    "            power_peak.append(np.max(power[freq_indices]))\n",
    "        return power_peak\n",
    "\n",
    "    def _power_ratio(self):\n",
    "        power_ratio = []\n",
    "        for w_data in self.__windowed_data:\n",
    "            frequencies, power = welch(w_data, self.sampling_freq)\n",
    "            spindle_freq_indices = np.where((frequencies >= 11) & (frequencies <= 14))\n",
    "            low_freq_indices = np.where((frequencies >= 0.3) & (frequencies <= 8.))\n",
    "            total_power_spindle = np.sum(power[spindle_freq_indices])\n",
    "            total_power_low = np.sum(power[low_freq_indices])\n",
    "            power_ratio.append(total_power_spindle / total_power_low)\n",
    "        return power_ratio\n",
    "\n",
    "    def _mean_frequency(self):\n",
    "        mean_freq = []\n",
    "        for w_data in self.__windowed_data:\n",
    "            analytic_signal = hilbert(w_data)\n",
    "            instantaneous_phase = np.unwrap(np.angle(analytic_signal))\n",
    "            instantaneous_frequency = (np.diff(instantaneous_phase) / (2.0*np.pi)) * self.sampling_freq\n",
    "            mean_inst_freq = np.mean(instantaneous_frequency)\n",
    "            mean_freq.append(mean_inst_freq)\n",
    "        return mean_freq\n",
    "\n",
    "    def _zero_crossing_rate(self):\n",
    "        zcr = []\n",
    "        for w_data in self.__windowed_data:\n",
    "            zero_crossings = np.where(np.diff(np.sign(w_data)))[0]\n",
    "            zcr.append(len(zero_crossings))\n",
    "        return zcr\n",
    "\n",
    "    def _hjorth(self):\n",
    "        hjorth_params = []\n",
    "        for w_data in self.__windowed_data:\n",
    "            first_derivative = np.diff(w_data)\n",
    "            second_derivative = np.diff(w_data, 2)\n",
    "            var_zero = np.mean(w_data ** 2)\n",
    "            var_d1 = np.mean(first_derivative ** 2)\n",
    "            var_d2 = np.mean(second_derivative ** 2)\n",
    "            mobility = np.sqrt(var_d1 / var_zero)\n",
    "            complexity = np.sqrt(var_d2 / var_d1) / mobility\n",
    "            hjorth_params.append((mobility, complexity))\n",
    "        return hjorth_params\n",
    "    \n",
    "    def _mean_absolute_amplitude(self):\n",
    "        mean_abs_amp = []\n",
    "        for w_data in self.__windowed_data:\n",
    "            mean_abs_amp.append(np.mean(np.abs(w_data)))\n",
    "        return mean_abs_amp\n",
    "\n",
    "    def _median_absolute_amplitude(self):\n",
    "        median_abs_amp = []\n",
    "        for w_data in self.__windowed_data:\n",
    "            median_abs_amp.append(np.median(np.abs(w_data)))\n",
    "        return median_abs_amp\n",
    "\n",
    "    def _skewness_of_gradient(self):\n",
    "        skew_grad = []\n",
    "        for w_data in self.__windowed_data:\n",
    "            gradient = np.gradient(w_data)\n",
    "            skew_grad.append(stats.skew(gradient))\n",
    "        return skew_grad\n",
    "    \n",
    "    def _kurtosis_of_gradient(self):\n",
    "        kurt_grad = []\n",
    "        for w_data in self.__windowed_data:\n",
    "            gradient = np.gradient(w_data)\n",
    "            kurt_grad.append(stats.kurtosis(gradient))\n",
    "        return kurt_grad\n",
    "\n",
    "    def _spectral_entropy(self):\n",
    "        spectral_entropies = []\n",
    "        for w_data in self.__windowed_data:\n",
    "            _, psd = welch(w_data, self.sampling_freq)\n",
    "            psd_normalized = psd / np.sum(psd)\n",
    "            spectral_entropies.append(-np.sum(psd_normalized * np.log2(psd_normalized)))\n",
    "        return spectral_entropies\n",
    "\n",
    "    def _hurst_exponent(self):\n",
    "        hurst_exponents = []\n",
    "        for w_data in self.__windowed_data:\n",
    "            hurst_exponents.append(nolds.dfa(w_data))\n",
    "        return hurst_exponents\n",
    "\n",
    "    def _signal_energy(self):\n",
    "        signal_energies = []\n",
    "        for w_data in self.__windowed_data:\n",
    "            signal_energies.append(np.sum(w_data ** 2))\n",
    "        return signal_energies\n",
    "\n",
    "    def _crossings(self):\n",
    "        crossings = []\n",
    "        for w_data in self.__windowed_data:\n",
    "            crossings.append(np.sum(np.diff(np.sign(w_data)) != 0))\n",
    "        return crossings\n",
    "\n",
    "    def _interquartile_range(self):\n",
    "        iqrs = []\n",
    "        for w_data in self.__windowed_data:\n",
    "            q75, q25 = np.percentile(w_data, [75 ,25])\n",
    "            iqr = q75 - q25\n",
    "            iqrs.append(iqr)\n",
    "        return iqrs\n",
    "    \n",
    "    def _mean_absolute_amplitude(self):\n",
    "        mean_abs_amp = []\n",
    "        for w_data in self.__windowed_data:\n",
    "            mean_abs_amp.append(np.mean(np.abs(w_data)))\n",
    "        return mean_abs_amp\n",
    "\n",
    "    def _median_absolute_amplitude(self):\n",
    "        median_abs_amp = []\n",
    "        for w_data in self.__windowed_data:\n",
    "            median_abs_amp.append(np.median(np.abs(w_data)))\n",
    "        return median_abs_amp\n",
    "\n",
    "    def extract_features(self):\n",
    "        val_dict = {}\n",
    "        samp_entropy = [nolds.sampen(w_data) for w_data in self.__windowed_data]\n",
    "        val_dict['sample_entropy'] = samp_entropy\n",
    "        max_value = [np.max(w_data) for w_data in self.__windowed_data]\n",
    "        val_dict['max_value'] = max_value\n",
    "        min_value = [np.min(w_data) for w_data in self.__windowed_data]\n",
    "        val_dict['min_value'] = min_value\n",
    "        variance = [np.var(w_data) for w_data in self.__windowed_data]\n",
    "        val_dict['variance'] = variance\n",
    "        std_deviation = [np.std(w_data) for w_data in self.__windowed_data]\n",
    "        val_dict['std_deviation'] = std_deviation\n",
    "        phase_amp_coupling = self._pac()\n",
    "        if len(phase_amp_coupling) < len(std_deviation):\n",
    "            phase_amp_coupling.extend([phase_amp_coupling[-1]] * (len(std_deviation) - len(phase_amp_coupling)))\n",
    "        elif len(phase_amp_coupling) > len(std_deviation):\n",
    "            phase_amp_coupling = phase_amp_coupling[:len(std_deviation)]\n",
    "        val_dict['phase_amp_coupling'] = phase_amp_coupling\n",
    "        inst_freq = self._mean_frequency()\n",
    "        val_dict['mean_freq'] = inst_freq\n",
    "        energy_ratio = self._energy_ratio()\n",
    "        val_dict['energy_ratio'] = energy_ratio\n",
    "        kurtosis_val = [stats.kurtosis(w_data) for w_data in self.__windowed_data]\n",
    "        val_dict['kurtosis'] = kurtosis_val\n",
    "        skewness_val = [stats.skew(w_data) for w_data in self.__windowed_data]\n",
    "        val_dict['skewness'] = skewness_val\n",
    "        power_peak = self._peak_power()\n",
    "        val_dict['power_peak'] = power_peak\n",
    "        power_ratio = self._power_ratio()\n",
    "        val_dict['power_ratio'] = power_ratio\n",
    "        iqr = [stats.iqr(w_data) for w_data in self.__windowed_data]\n",
    "        val_dict['iqr'] = iqr\n",
    "        zcr = self._zero_crossing_rate()\n",
    "        val_dict['zrc'] = zcr\n",
    "        hjorth_params = self._hjorth()\n",
    "        mobility = [param[0] for param in hjorth_params]\n",
    "        complexity = [param[1] for param in hjorth_params]\n",
    "        val_dict['mobility'] = mobility\n",
    "        val_dict['complexity'] = complexity\n",
    "        mean_abs_amp = self._mean_absolute_amplitude()\n",
    "        val_dict['mean_abs_amp'] = mean_abs_amp\n",
    "        median_abs_amp = self._median_absolute_amplitude()\n",
    "        val_dict['median_abs_amp'] = median_abs_amp\n",
    "        skew_grad = self._skewness_of_gradient()\n",
    "        val_dict['skew_grad'] = skew_grad\n",
    "        kurt_grad = self._kurtosis_of_gradient()\n",
    "        val_dict['kurt_grad'] = kurt_grad\n",
    "        spectral_entropy = self._spectral_entropy()\n",
    "        val_dict['spectral_entropy'] = spectral_entropy\n",
    "        hurst_exponent = self._hurst_exponent()\n",
    "        val_dict['hurst_exponent'] = hurst_exponent\n",
    "        signal_energy = self._signal_energy()\n",
    "        val_dict['signal_energy'] = signal_energy\n",
    "        crossings = self._crossings()\n",
    "        val_dict['crossings'] = crossings\n",
    "        sample_entropy = self._sample_entropy()\n",
    "        val_dict['sample_entropy'] = sample_entropy\n",
    "        variance = self._variance()\n",
    "        val_dict['variance'] = variance\n",
    "        standard_deviation = self._standard_deviation()\n",
    "        val_dict['standard_deviation'] = standard_deviation\n",
    "        interquartile_range = self._interquartile_range()\n",
    "        val_dict['interquartile_range'] = interquartile_range\n",
    "        \n",
    "        return pd.DataFrame(val_dict)"
   ]
  },
  {
   "cell_type": "code",
   "execution_count": 27,
   "metadata": {},
   "outputs": [
    {
     "name": "stderr",
     "output_type": "stream",
     "text": [
      "Extracting features:   0%|          | 0/8 [00:00<?, ?it/s]C:\\Users\\matte\\AppData\\Local\\Temp\\ipykernel_31636\\1264225721.py:45: UserWarning: nperseg = 256 is greater than input length  = 100, using nperseg = 100\n",
      "  _, _, Sxx = spectrogram(w_data, fs=self.sampling_freq)\n",
      "c:\\Users\\matte\\AppData\\Local\\Programs\\Python\\Python311\\Lib\\site-packages\\scipy\\signal\\_spectral_py.py:600: UserWarning: nperseg = 256 is greater than input length  = 100, using nperseg = 100\n",
      "  freqs, _, Pxy = _spectral_helper(x, y, fs, window, nperseg, noverlap,\n",
      "Extracting features:  12%|█▎        | 1/8 [00:45<05:15, 45.11s/it]C:\\Users\\matte\\AppData\\Local\\Temp\\ipykernel_31636\\1264225721.py:45: UserWarning: nperseg = 256 is greater than input length  = 100, using nperseg = 100\n",
      "  _, _, Sxx = spectrogram(w_data, fs=self.sampling_freq)\n",
      "c:\\Users\\matte\\AppData\\Local\\Programs\\Python\\Python311\\Lib\\site-packages\\scipy\\signal\\_spectral_py.py:600: UserWarning: nperseg = 256 is greater than input length  = 100, using nperseg = 100\n",
      "  freqs, _, Pxy = _spectral_helper(x, y, fs, window, nperseg, noverlap,\n",
      "Extracting features:  25%|██▌       | 2/8 [01:30<04:30, 45.11s/it]C:\\Users\\matte\\AppData\\Local\\Temp\\ipykernel_31636\\1264225721.py:45: UserWarning: nperseg = 256 is greater than input length  = 100, using nperseg = 100\n",
      "  _, _, Sxx = spectrogram(w_data, fs=self.sampling_freq)\n",
      "c:\\Users\\matte\\AppData\\Local\\Programs\\Python\\Python311\\Lib\\site-packages\\scipy\\signal\\_spectral_py.py:600: UserWarning: nperseg = 256 is greater than input length  = 100, using nperseg = 100\n",
      "  freqs, _, Pxy = _spectral_helper(x, y, fs, window, nperseg, noverlap,\n",
      "Extracting features:  38%|███▊      | 3/8 [02:15<03:44, 44.98s/it]C:\\Users\\matte\\AppData\\Local\\Temp\\ipykernel_31636\\1264225721.py:45: UserWarning: nperseg = 256 is greater than input length  = 100, using nperseg = 100\n",
      "  _, _, Sxx = spectrogram(w_data, fs=self.sampling_freq)\n",
      "c:\\Users\\matte\\AppData\\Local\\Programs\\Python\\Python311\\Lib\\site-packages\\scipy\\signal\\_spectral_py.py:600: UserWarning: nperseg = 256 is greater than input length  = 100, using nperseg = 100\n",
      "  freqs, _, Pxy = _spectral_helper(x, y, fs, window, nperseg, noverlap,\n",
      "Extracting features:  50%|█████     | 4/8 [03:00<03:00, 45.07s/it]C:\\Users\\matte\\AppData\\Local\\Temp\\ipykernel_31636\\1264225721.py:45: UserWarning: nperseg = 256 is greater than input length  = 100, using nperseg = 100\n",
      "  _, _, Sxx = spectrogram(w_data, fs=self.sampling_freq)\n",
      "c:\\Users\\matte\\AppData\\Local\\Programs\\Python\\Python311\\Lib\\site-packages\\scipy\\signal\\_spectral_py.py:600: UserWarning: nperseg = 256 is greater than input length  = 100, using nperseg = 100\n",
      "  freqs, _, Pxy = _spectral_helper(x, y, fs, window, nperseg, noverlap,\n",
      "Extracting features:  62%|██████▎   | 5/8 [03:45<02:15, 45.03s/it]C:\\Users\\matte\\AppData\\Local\\Temp\\ipykernel_31636\\1264225721.py:45: UserWarning: nperseg = 256 is greater than input length  = 100, using nperseg = 100\n",
      "  _, _, Sxx = spectrogram(w_data, fs=self.sampling_freq)\n",
      "c:\\Users\\matte\\AppData\\Local\\Programs\\Python\\Python311\\Lib\\site-packages\\scipy\\signal\\_spectral_py.py:600: UserWarning: nperseg = 256 is greater than input length  = 100, using nperseg = 100\n",
      "  freqs, _, Pxy = _spectral_helper(x, y, fs, window, nperseg, noverlap,\n",
      "Extracting features:  75%|███████▌  | 6/8 [04:30<01:30, 45.00s/it]C:\\Users\\matte\\AppData\\Local\\Temp\\ipykernel_31636\\1264225721.py:45: UserWarning: nperseg = 256 is greater than input length  = 100, using nperseg = 100\n",
      "  _, _, Sxx = spectrogram(w_data, fs=self.sampling_freq)\n",
      "c:\\Users\\matte\\AppData\\Local\\Programs\\Python\\Python311\\Lib\\site-packages\\scipy\\signal\\_spectral_py.py:600: UserWarning: nperseg = 256 is greater than input length  = 100, using nperseg = 100\n",
      "  freqs, _, Pxy = _spectral_helper(x, y, fs, window, nperseg, noverlap,\n",
      "Extracting features:  88%|████████▊ | 7/8 [05:15<00:45, 45.19s/it]C:\\Users\\matte\\AppData\\Local\\Temp\\ipykernel_31636\\1264225721.py:45: UserWarning: nperseg = 256 is greater than input length  = 100, using nperseg = 100\n",
      "  _, _, Sxx = spectrogram(w_data, fs=self.sampling_freq)\n",
      "c:\\Users\\matte\\AppData\\Local\\Programs\\Python\\Python311\\Lib\\site-packages\\scipy\\signal\\_spectral_py.py:600: UserWarning: nperseg = 256 is greater than input length  = 100, using nperseg = 100\n",
      "  freqs, _, Pxy = _spectral_helper(x, y, fs, window, nperseg, noverlap,\n",
      "Extracting features: 100%|██████████| 8/8 [06:00<00:00, 45.02s/it]\n"
     ]
    }
   ],
   "source": [
    "features_dfs_1 = []\n",
    "\n",
    "for i in tqdm(range(len(labeled1_dfs)), desc=\"Extracting features\"):\n",
    "    feature_extractor = FeatureExtractor(labeled1_dfs[i]['EEG_Signal'].values, sampling_freq=200)\n",
    "    features_dfs_1.append(feature_extractor.extract_features())"
   ]
  },
  {
   "cell_type": "code",
   "execution_count": 28,
   "metadata": {},
   "outputs": [
    {
     "name": "stderr",
     "output_type": "stream",
     "text": [
      "Extracting features:   0%|          | 0/8 [00:00<?, ?it/s]C:\\Users\\matte\\AppData\\Local\\Temp\\ipykernel_31636\\1264225721.py:45: UserWarning: nperseg = 256 is greater than input length  = 100, using nperseg = 100\n",
      "  _, _, Sxx = spectrogram(w_data, fs=self.sampling_freq)\n",
      "c:\\Users\\matte\\AppData\\Local\\Programs\\Python\\Python311\\Lib\\site-packages\\scipy\\signal\\_spectral_py.py:600: UserWarning: nperseg = 256 is greater than input length  = 100, using nperseg = 100\n",
      "  freqs, _, Pxy = _spectral_helper(x, y, fs, window, nperseg, noverlap,\n",
      "Extracting features:  12%|█▎        | 1/8 [01:21<09:31, 81.63s/it]C:\\Users\\matte\\AppData\\Local\\Temp\\ipykernel_31636\\1264225721.py:45: UserWarning: nperseg = 256 is greater than input length  = 100, using nperseg = 100\n",
      "  _, _, Sxx = spectrogram(w_data, fs=self.sampling_freq)\n",
      "c:\\Users\\matte\\AppData\\Local\\Programs\\Python\\Python311\\Lib\\site-packages\\scipy\\signal\\_spectral_py.py:600: UserWarning: nperseg = 256 is greater than input length  = 100, using nperseg = 100\n",
      "  freqs, _, Pxy = _spectral_helper(x, y, fs, window, nperseg, noverlap,\n",
      "Extracting features:  25%|██▌       | 2/8 [02:43<08:09, 81.62s/it]C:\\Users\\matte\\AppData\\Local\\Temp\\ipykernel_31636\\1264225721.py:45: UserWarning: nperseg = 256 is greater than input length  = 100, using nperseg = 100\n",
      "  _, _, Sxx = spectrogram(w_data, fs=self.sampling_freq)\n",
      "c:\\Users\\matte\\AppData\\Local\\Programs\\Python\\Python311\\Lib\\site-packages\\scipy\\signal\\_spectral_py.py:600: UserWarning: nperseg = 256 is greater than input length  = 100, using nperseg = 100\n",
      "  freqs, _, Pxy = _spectral_helper(x, y, fs, window, nperseg, noverlap,\n",
      "Extracting features:  38%|███▊      | 3/8 [04:09<06:59, 83.86s/it]C:\\Users\\matte\\AppData\\Local\\Temp\\ipykernel_31636\\1264225721.py:45: UserWarning: nperseg = 256 is greater than input length  = 100, using nperseg = 100\n",
      "  _, _, Sxx = spectrogram(w_data, fs=self.sampling_freq)\n",
      "c:\\Users\\matte\\AppData\\Local\\Programs\\Python\\Python311\\Lib\\site-packages\\scipy\\signal\\_spectral_py.py:600: UserWarning: nperseg = 256 is greater than input length  = 100, using nperseg = 100\n",
      "  freqs, _, Pxy = _spectral_helper(x, y, fs, window, nperseg, noverlap,\n",
      "Extracting features:  50%|█████     | 4/8 [05:31<05:32, 83.04s/it]C:\\Users\\matte\\AppData\\Local\\Temp\\ipykernel_31636\\1264225721.py:45: UserWarning: nperseg = 256 is greater than input length  = 100, using nperseg = 100\n",
      "  _, _, Sxx = spectrogram(w_data, fs=self.sampling_freq)\n",
      "c:\\Users\\matte\\AppData\\Local\\Programs\\Python\\Python311\\Lib\\site-packages\\scipy\\signal\\_spectral_py.py:600: UserWarning: nperseg = 256 is greater than input length  = 100, using nperseg = 100\n",
      "  freqs, _, Pxy = _spectral_helper(x, y, fs, window, nperseg, noverlap,\n",
      "Extracting features:  62%|██████▎   | 5/8 [06:51<04:06, 82.10s/it]C:\\Users\\matte\\AppData\\Local\\Temp\\ipykernel_31636\\1264225721.py:45: UserWarning: nperseg = 256 is greater than input length  = 100, using nperseg = 100\n",
      "  _, _, Sxx = spectrogram(w_data, fs=self.sampling_freq)\n",
      "c:\\Users\\matte\\AppData\\Local\\Programs\\Python\\Python311\\Lib\\site-packages\\scipy\\signal\\_spectral_py.py:600: UserWarning: nperseg = 256 is greater than input length  = 100, using nperseg = 100\n",
      "  freqs, _, Pxy = _spectral_helper(x, y, fs, window, nperseg, noverlap,\n",
      "Extracting features:  75%|███████▌  | 6/8 [08:12<02:43, 81.61s/it]C:\\Users\\matte\\AppData\\Local\\Temp\\ipykernel_31636\\1264225721.py:45: UserWarning: nperseg = 256 is greater than input length  = 100, using nperseg = 100\n",
      "  _, _, Sxx = spectrogram(w_data, fs=self.sampling_freq)\n",
      "c:\\Users\\matte\\AppData\\Local\\Programs\\Python\\Python311\\Lib\\site-packages\\scipy\\signal\\_spectral_py.py:600: UserWarning: nperseg = 256 is greater than input length  = 100, using nperseg = 100\n",
      "  freqs, _, Pxy = _spectral_helper(x, y, fs, window, nperseg, noverlap,\n",
      "Extracting features:  88%|████████▊ | 7/8 [09:33<01:21, 81.27s/it]C:\\Users\\matte\\AppData\\Local\\Temp\\ipykernel_31636\\1264225721.py:45: UserWarning: nperseg = 256 is greater than input length  = 100, using nperseg = 100\n",
      "  _, _, Sxx = spectrogram(w_data, fs=self.sampling_freq)\n",
      "c:\\Users\\matte\\AppData\\Local\\Programs\\Python\\Python311\\Lib\\site-packages\\scipy\\signal\\_spectral_py.py:600: UserWarning: nperseg = 256 is greater than input length  = 100, using nperseg = 100\n",
      "  freqs, _, Pxy = _spectral_helper(x, y, fs, window, nperseg, noverlap,\n",
      "Extracting features: 100%|██████████| 8/8 [10:53<00:00, 81.70s/it]\n"
     ]
    }
   ],
   "source": [
    "features_dfs_2 = []\n",
    "\n",
    "for i in tqdm(range(len(filtered_dfs)), desc=\"Extracting features\"):\n",
    "    feature_extractor = FeatureExtractor(filtered_dfs[i]['EEG_Signal'].values, sampling_freq=200)\n",
    "    features_dfs_2.append(feature_extractor.extract_features())"
   ]
  },
  {
   "cell_type": "markdown",
   "metadata": {},
   "source": [
    "The `window_labels` function segments a series of labels into windows, then checks each window to determine if all its labels are 1 (indicating consistent presence of a condition, such as a sleep spindle, across the entire window). It returns a simplified label array, where each window's label is 1 if all original labels in that window are 1, otherwise 0, effectively reducing the resolution of the label data for analysis or modeling."
   ]
  },
  {
   "cell_type": "code",
   "execution_count": 29,
   "metadata": {},
   "outputs": [],
   "source": [
    "def window_labels(labels, window_size=0.5, sampling_freq=200):\n",
    "    windowed_labels = [\n",
    "        labels[int(window_idx * window_size * sampling_freq):\n",
    "               int((window_idx + 1) * window_size * sampling_freq)]\n",
    "        for window_idx in range(len(labels) // int(sampling_freq * window_size))\n",
    "    ]\n",
    "    \n",
    "    windowed_labels = np.array(windowed_labels)\n",
    "    window_lengths = windowed_labels.shape[1]\n",
    "    sums = np.sum(windowed_labels, axis=1)\n",
    "    \n",
    "    return np.where(sums == window_lengths, 1, 0)"
   ]
  },
  {
   "cell_type": "code",
   "execution_count": 30,
   "metadata": {},
   "outputs": [],
   "source": [
    "y_1 = []\n",
    "y_2 = []\n",
    "\n",
    "for i in range(len(features_dfs_1)):\n",
    "    y_1.append(window_labels(labeled1_dfs[i]['Label']))\n",
    "for i in range(len(features_dfs_2)-2):\n",
    "    y_2.append(window_labels(labeled2_dfs[i]['Label']))\n"
   ]
  },
  {
   "cell_type": "markdown",
   "metadata": {},
   "source": [
    "## Normalization\n",
    "The `normalize_datasets` function takes a list of DataFrames containing feature data and normalizes each DataFrame using the MinMaxScaler. This normalization ensures that all feature values are scaled to a uniform range between 0 and 1, facilitating model training and improving the performance of algorithms sensitive to feature scaling. Each normalized DataFrame retains the original structure and is stored in a new list for further processing."
   ]
  },
  {
   "cell_type": "code",
   "execution_count": 31,
   "metadata": {},
   "outputs": [],
   "source": [
    "def normalize_datasets(feature_dfs):\n",
    "    normalized_dfs = []\n",
    "    \n",
    "    for df in feature_dfs:\n",
    "        scaler = MinMaxScaler()\n",
    "        \n",
    "        normalized_data = scaler.fit_transform(df)\n",
    "        \n",
    "        normalized_df = pd.DataFrame(normalized_data, columns=df.columns)\n",
    "        \n",
    "        normalized_dfs.append(normalized_df)\n",
    "    \n",
    "    return normalized_dfs"
   ]
  },
  {
   "cell_type": "code",
   "execution_count": 32,
   "metadata": {},
   "outputs": [],
   "source": [
    "features_dfs_1 = normalize_datasets(features_dfs_1)\n",
    "features_dfs_2 = normalize_datasets(features_dfs_2)"
   ]
  },
  {
   "cell_type": "markdown",
   "metadata": {},
   "source": [
    "## Data Splitting"
   ]
  },
  {
   "cell_type": "code",
   "execution_count": 33,
   "metadata": {},
   "outputs": [],
   "source": [
    "train_size = 6\n",
    "val_size = 1\n",
    "test_size = 1\n",
    "\n",
    "X_train_1 = pd.concat(features_dfs_1[:train_size]).reset_index().drop(columns=\"index\")\n",
    "X_val_1 = pd.concat(features_dfs_1[train_size:train_size+val_size]).reset_index().drop(columns=\"index\")\n",
    "X_test_1 = pd.concat(features_dfs_1[train_size+val_size:train_size+val_size+test_size]).reset_index().drop(columns=\"index\")\n",
    "\n",
    "y_train_1 = np.concatenate(y_1[:train_size])\n",
    "y_val_1 = np.concatenate(y_1[train_size:train_size+val_size])\n",
    "y_test_1 = np.concatenate(y_1[train_size+val_size:train_size+val_size+test_size])"
   ]
  },
  {
   "cell_type": "code",
   "execution_count": 34,
   "metadata": {},
   "outputs": [],
   "source": [
    "train_size = 4\n",
    "val_size = 1\n",
    "test_size = 1\n",
    "\n",
    "X_train_2 = pd.concat(features_dfs_2[:train_size]).reset_index().drop(columns=\"index\")\n",
    "X_val_2 = pd.concat(features_dfs_2[test_size:test_size+val_size]).reset_index().drop(columns=\"index\")\n",
    "X_test_2 = pd.concat(features_dfs_2[train_size+val_size:train_size+val_size+test_size]).reset_index().drop(columns=\"index\")\n",
    "\n",
    "y_train_2 = np.concatenate(y_2[:train_size])\n",
    "y_val_2 = np.concatenate(y_2[train_size:train_size+val_size])\n",
    "y_test_2 = np.concatenate(y_2[train_size+val_size:train_size+val_size+test_size])"
   ]
  },
  {
   "cell_type": "markdown",
   "metadata": {},
   "source": [
    "## Handle class imbalance\n",
    "Addressing the issue of class imbalance in training, validation, and test datasets by applying three different resampling techniques: SMOTEENN for a combination of oversampling and cleaning using ENN, undersampling to reduce the majority class, and oversampling to augment the minority class. These methods are crucial to prevent model bias towards the majority class and ensure more generalized and equitable predictive performance across all classes. The results of the resampling are then displayed to verify the new distribution of classes, confirming the effectiveness of these techniques in balancing the datasets."
   ]
  },
  {
   "cell_type": "markdown",
   "metadata": {},
   "source": [
    "The `apply_smoteen` function handle the class imbalance using SMOTEENN methods."
   ]
  },
  {
   "cell_type": "code",
   "execution_count": 35,
   "metadata": {},
   "outputs": [],
   "source": [
    "def apply_smoteen(x,y):\n",
    "    sampler = SMOTEENN()\n",
    "    return sampler.fit_resample(x, pd.Series(y))"
   ]
  },
  {
   "cell_type": "markdown",
   "metadata": {},
   "source": [
    "The `apply_undersampling` function handle the class imbalance using RandomUnderSampler methods."
   ]
  },
  {
   "cell_type": "code",
   "execution_count": 36,
   "metadata": {},
   "outputs": [],
   "source": [
    "def apply_undersampling(x,y):\n",
    "    undersampler = RandomUnderSampler(random_state=42)\n",
    "    return undersampler.fit_resample(x, y)"
   ]
  },
  {
   "cell_type": "markdown",
   "metadata": {},
   "source": [
    "The `apply_oversampling` function handle the class imbalance using apply_oversampling methods."
   ]
  },
  {
   "cell_type": "code",
   "execution_count": 37,
   "metadata": {},
   "outputs": [],
   "source": [
    "def apply_oversampling(x,y):\n",
    "    smote = SMOTE()\n",
    "    return smote.fit_resample(x, y)"
   ]
  },
  {
   "cell_type": "code",
   "execution_count": 38,
   "metadata": {},
   "outputs": [
    {
     "name": "stdout",
     "output_type": "stream",
     "text": [
      "Distribution of y_train_1:\n",
      "0    11809\n",
      "1      191\n",
      "Name: count, dtype: int64\n",
      "\n",
      "Distribution of y_val_1:\n",
      "0    1990\n",
      "1      10\n",
      "Name: count, dtype: int64\n",
      "\n",
      "Distribution of y_test_1:\n",
      "0    1961\n",
      "1      39\n",
      "Name: count, dtype: int64\n"
     ]
    }
   ],
   "source": [
    "print(\"Distribution of y_train_1:\")\n",
    "print(pd.Series(y_train_1).value_counts())\n",
    "\n",
    "print(\"\\nDistribution of y_val_1:\")\n",
    "print(pd.Series(y_val_1).value_counts())\n",
    "\n",
    "print(\"\\nDistribution of y_test_1:\")\n",
    "print(pd.Series(y_test_1).value_counts())"
   ]
  },
  {
   "cell_type": "code",
   "execution_count": 39,
   "metadata": {},
   "outputs": [
    {
     "name": "stdout",
     "output_type": "stream",
     "text": [
      "Distribution of y_train_2:\n",
      "0    14153\n",
      "1      246\n",
      "Name: count, dtype: int64\n",
      "\n",
      "Distribution of y_val_2:\n",
      "0    3514\n",
      "1      86\n",
      "Name: count, dtype: int64\n",
      "\n",
      "Distribution of y_test_2:\n",
      "0    3511\n",
      "1      89\n",
      "Name: count, dtype: int64\n"
     ]
    }
   ],
   "source": [
    "print(\"Distribution of y_train_2:\")\n",
    "print(pd.Series(y_train_2).value_counts())\n",
    "\n",
    "print(\"\\nDistribution of y_val_2:\")\n",
    "print(pd.Series(y_val_2).value_counts())\n",
    "\n",
    "print(\"\\nDistribution of y_test_2:\")\n",
    "print(pd.Series(y_test_2).value_counts())"
   ]
  },
  {
   "cell_type": "code",
   "execution_count": 40,
   "metadata": {},
   "outputs": [],
   "source": [
    "X_train_1_smoteen, y_train_1_smoteen = apply_smoteen(X_train_1, y_train_1)\n",
    "X_train_2_smoteen, y_train_2_smoteen = apply_smoteen(X_train_2, y_train_2)\n",
    "\n",
    "X_train_1_undersampling, y_train_1_undersampling = apply_undersampling(X_train_1, y_train_1)\n",
    "X_train_2_undersampling, y_train_2_undersampling = apply_undersampling(X_train_2, y_train_2)\n",
    "\n",
    "X_train_1_oversampling, y_train_1_oversampling = apply_oversampling(X_train_1, y_train_1)\n",
    "X_train_2_oversampling, y_train_2_oversampling = apply_oversampling(X_train_2, y_train_2)"
   ]
  },
  {
   "cell_type": "code",
   "execution_count": 41,
   "metadata": {},
   "outputs": [],
   "source": [
    "X_test_1_smoteen, y_test_1_smoteen = apply_smoteen(X_test_1, y_test_1)\n",
    "X_test_2_smoteen, y_test_2_smoteen = apply_smoteen(X_test_2, y_test_2)\n",
    "\n",
    "X_test_1_undersampling, y_test_1_undersampling = apply_undersampling(X_test_1, y_test_1)\n",
    "X_test_2_undersampling, y_test_2_undersampling = apply_undersampling(X_test_2, y_test_2)\n",
    "\n",
    "X_test_1_oversampling, y_test_1_oversampling = apply_oversampling(X_test_1, y_test_1)\n",
    "X_test_2_oversampling, y_test_2_oversampling = apply_oversampling(X_test_2, y_test_2)"
   ]
  },
  {
   "cell_type": "code",
   "execution_count": 42,
   "metadata": {},
   "outputs": [],
   "source": [
    "X_val_1_smoteen, y_val_1_smoteen = apply_smoteen(X_val_1, y_val_1)\n",
    "X_val_2_smoteen, y_val_2_smoteen = apply_smoteen(X_val_2, y_val_2)\n",
    "\n",
    "X_val_1_undersampling, y_val_1_undersampling = apply_undersampling(X_val_1, y_val_1)\n",
    "X_val_2_undersampling, y_val_2_undersampling = apply_undersampling(X_val_2, y_val_2)\n",
    "\n",
    "X_val_1_oversampling, y_val_1_oversampling = apply_oversampling(X_val_1, y_val_1)\n",
    "X_val_2_oversampling, y_val_2_oversampling = apply_oversampling(X_val_2, y_val_2)"
   ]
  },
  {
   "cell_type": "code",
   "execution_count": 43,
   "metadata": {},
   "outputs": [
    {
     "name": "stdout",
     "output_type": "stream",
     "text": [
      "Distribution of y_train_1:\n",
      "1    11809\n",
      "0    10979\n",
      "Name: count, dtype: int64\n",
      "Distribution of y_train_2:\n",
      "1    14153\n",
      "0    13181\n",
      "Name: count, dtype: int64\n"
     ]
    }
   ],
   "source": [
    "print(\"Distribution of y_train_1:\")\n",
    "print(pd.Series(y_train_1_smoteen).value_counts())\n",
    "\n",
    "print(\"Distribution of y_train_2:\")\n",
    "print(pd.Series(y_train_2_smoteen).value_counts())"
   ]
  },
  {
   "cell_type": "code",
   "execution_count": 44,
   "metadata": {},
   "outputs": [
    {
     "name": "stdout",
     "output_type": "stream",
     "text": [
      "Distribution of y_train_1:\n",
      "0    191\n",
      "1    191\n",
      "Name: count, dtype: int64\n",
      "Distribution of y_train_2:\n",
      "0    246\n",
      "1    246\n",
      "Name: count, dtype: int64\n"
     ]
    }
   ],
   "source": [
    "print(\"Distribution of y_train_1:\")\n",
    "print(pd.Series(y_train_1_undersampling).value_counts())\n",
    "\n",
    "print(\"Distribution of y_train_2:\")\n",
    "print(pd.Series(y_train_2_undersampling).value_counts())"
   ]
  },
  {
   "cell_type": "code",
   "execution_count": 45,
   "metadata": {},
   "outputs": [
    {
     "name": "stdout",
     "output_type": "stream",
     "text": [
      "Distribution of y_train_1:\n",
      "0    11809\n",
      "1    11809\n",
      "Name: count, dtype: int64\n",
      "Distribution of y_train_2:\n",
      "0    14153\n",
      "1    14153\n",
      "Name: count, dtype: int64\n"
     ]
    }
   ],
   "source": [
    "print(\"Distribution of y_train_1:\")\n",
    "print(pd.Series(y_train_1_oversampling).value_counts())\n",
    "\n",
    "print(\"Distribution of y_train_2:\")\n",
    "print(pd.Series(y_train_2_oversampling).value_counts())"
   ]
  },
  {
   "cell_type": "markdown",
   "metadata": {},
   "source": [
    "## Model Train"
   ]
  },
  {
   "cell_type": "markdown",
   "metadata": {},
   "source": [
    "The `training_testing_classifiers` function trains and evaluates four different machine learning models: K-Nearest Neighbors, Random Forest, Gradient Boosting, and Support Vector Machine on given training and test datasets. It prints out the classification reports for each model, providing insights into their performance metrics such as precision, recall, and F1-score. Finally, it calculates and returns the F1 scores for each classifier, helping to compare their effectiveness in handling the specific task."
   ]
  },
  {
   "cell_type": "code",
   "execution_count": 46,
   "metadata": {},
   "outputs": [],
   "source": [
    "def training_testing_classifiers(x_train, y_train, x_test, y_test):\n",
    "    knn = KNeighborsClassifier()\n",
    "    random_forest = RandomForestClassifier()\n",
    "    gradient_boosting = GradientBoostingClassifier()\n",
    "    svm = SVC()\n",
    "\n",
    "    print('----------------------------------------------- Training Started -----------------------------------------------')\n",
    "    knn.fit(x_train, y_train)\n",
    "    random_forest.fit(x_train, y_train)\n",
    "    gradient_boosting.fit(x_train, y_train)\n",
    "    svm.fit(x_train, y_train)\n",
    "\n",
    "    print('------------------------------------------------ Testing Started ------------------------------------------------')\n",
    "    y_pred_knn = knn.predict(x_test)\n",
    "    y_pred_rf = random_forest.predict(x_test)\n",
    "    y_pred_gb = gradient_boosting.predict(x_test)\n",
    "    y_pred_svm = svm.predict(x_test)\n",
    "\n",
    "    print(\"---------------------------------------------- K-Nearest Neighbors: ---------------------------------------------\")\n",
    "    print(classification_report(y_test, y_pred_knn))\n",
    "\n",
    "    print(\"------------------------------------------------ Random Forest: -------------------------------------------------\")\n",
    "    print(classification_report(y_test, y_pred_rf))\n",
    "\n",
    "    print(\"----------------------------------------------- Gradient Boosting: ----------------------------------------------\")\n",
    "    print(classification_report(y_test, y_pred_gb))\n",
    "\n",
    "    print(\"-------------------------------------------- Support Vector Machine: --------------------------------------------\")\n",
    "    print(classification_report(y_test, y_pred_svm))\n",
    "\n",
    "    f1_knn = f1_score(y_test, y_pred_knn)\n",
    "    f1_rf = f1_score(y_test, y_pred_rf)\n",
    "    f1_gb = f1_score(y_test, y_pred_gb)\n",
    "    f1_svm = f1_score(y_test, y_pred_svm)\n",
    "\n",
    "    return f1_knn, f1_rf, f1_gb, f1_svm\n"
   ]
  },
  {
   "cell_type": "markdown",
   "metadata": {},
   "source": [
    "### **Training on Visual Scoring 1**"
   ]
  },
  {
   "cell_type": "markdown",
   "metadata": {},
   "source": [
    "#### Using Smoteen Dataset"
   ]
  },
  {
   "cell_type": "code",
   "execution_count": 82,
   "metadata": {},
   "outputs": [
    {
     "name": "stdout",
     "output_type": "stream",
     "text": [
      "----------------------------------------------- Training Started -----------------------------------------------\n",
      "------------------------------------------------ Testing Started ------------------------------------------------\n",
      "---------------------------------------------- K-Nearest Neighbors: ---------------------------------------------\n",
      "              precision    recall  f1-score   support\n",
      "\n",
      "           0       0.56      0.98      0.71      1732\n",
      "           1       0.96      0.32      0.48      1961\n",
      "\n",
      "    accuracy                           0.63      3693\n",
      "   macro avg       0.76      0.65      0.59      3693\n",
      "weighted avg       0.77      0.63      0.59      3693\n",
      "\n",
      "------------------------------------------------ Random Forest: -------------------------------------------------\n",
      "              precision    recall  f1-score   support\n",
      "\n",
      "           0       0.65      0.99      0.79      1732\n",
      "           1       0.99      0.53      0.69      1961\n",
      "\n",
      "    accuracy                           0.75      3693\n",
      "   macro avg       0.82      0.76      0.74      3693\n",
      "weighted avg       0.83      0.75      0.73      3693\n",
      "\n",
      "----------------------------------------------- Gradient Boosting: ----------------------------------------------\n",
      "              precision    recall  f1-score   support\n",
      "\n",
      "           0       0.70      0.97      0.81      1732\n",
      "           1       0.96      0.63      0.76      1961\n",
      "\n",
      "    accuracy                           0.79      3693\n",
      "   macro avg       0.83      0.80      0.79      3693\n",
      "weighted avg       0.84      0.79      0.78      3693\n",
      "\n",
      "-------------------------------------------- Support Vector Machine: --------------------------------------------\n",
      "              precision    recall  f1-score   support\n",
      "\n",
      "           0       0.71      0.97      0.82      1732\n",
      "           1       0.96      0.64      0.77      1961\n",
      "\n",
      "    accuracy                           0.80      3693\n",
      "   macro avg       0.83      0.81      0.79      3693\n",
      "weighted avg       0.84      0.80      0.79      3693\n",
      "\n"
     ]
    }
   ],
   "source": [
    "f1_scores_smoteen = training_testing_classifiers(X_train_1_smoteen, y_train_1_smoteen, X_test_1_smoteen, y_test_1_smoteen)"
   ]
  },
  {
   "cell_type": "markdown",
   "metadata": {},
   "source": [
    "#### Using Undersampled Dataset"
   ]
  },
  {
   "cell_type": "code",
   "execution_count": 48,
   "metadata": {},
   "outputs": [
    {
     "name": "stdout",
     "output_type": "stream",
     "text": [
      "----------------------------------------------- Training Started -----------------------------------------------\n",
      "------------------------------------------------ Testing Started ------------------------------------------------\n",
      "---------------------------------------------- K-Nearest Neighbors: ---------------------------------------------\n",
      "              precision    recall  f1-score   support\n",
      "\n",
      "           0       0.76      0.90      0.82        39\n",
      "           1       0.88      0.72      0.79        39\n",
      "\n",
      "    accuracy                           0.81        78\n",
      "   macro avg       0.82      0.81      0.81        78\n",
      "weighted avg       0.82      0.81      0.81        78\n",
      "\n",
      "------------------------------------------------ Random Forest: -------------------------------------------------\n",
      "              precision    recall  f1-score   support\n",
      "\n",
      "           0       0.72      0.92      0.81        39\n",
      "           1       0.89      0.64      0.75        39\n",
      "\n",
      "    accuracy                           0.78        78\n",
      "   macro avg       0.81      0.78      0.78        78\n",
      "weighted avg       0.81      0.78      0.78        78\n",
      "\n",
      "----------------------------------------------- Gradient Boosting: ----------------------------------------------\n",
      "              precision    recall  f1-score   support\n",
      "\n",
      "           0       0.71      0.87      0.78        39\n",
      "           1       0.83      0.64      0.72        39\n",
      "\n",
      "    accuracy                           0.76        78\n",
      "   macro avg       0.77      0.76      0.75        78\n",
      "weighted avg       0.77      0.76      0.75        78\n",
      "\n",
      "-------------------------------------------- Support Vector Machine: --------------------------------------------\n",
      "              precision    recall  f1-score   support\n",
      "\n",
      "           0       0.77      0.92      0.84        39\n",
      "           1       0.90      0.72      0.80        39\n",
      "\n",
      "    accuracy                           0.82        78\n",
      "   macro avg       0.83      0.82      0.82        78\n",
      "weighted avg       0.83      0.82      0.82        78\n",
      "\n"
     ]
    }
   ],
   "source": [
    "f1_scores_undersampling = training_testing_classifiers(X_train_1_undersampling, y_train_1_undersampling, X_test_1_undersampling, y_test_1_undersampling)"
   ]
  },
  {
   "cell_type": "markdown",
   "metadata": {},
   "source": [
    "#### Using Oversampled Dataset"
   ]
  },
  {
   "cell_type": "code",
   "execution_count": 49,
   "metadata": {},
   "outputs": [
    {
     "name": "stdout",
     "output_type": "stream",
     "text": [
      "----------------------------------------------- Training Started -----------------------------------------------\n",
      "------------------------------------------------ Testing Started ------------------------------------------------\n",
      "---------------------------------------------- K-Nearest Neighbors: ---------------------------------------------\n",
      "              precision    recall  f1-score   support\n",
      "\n",
      "           0       0.58      0.98      0.73      1961\n",
      "           1       0.93      0.30      0.45      1961\n",
      "\n",
      "    accuracy                           0.64      3922\n",
      "   macro avg       0.76      0.64      0.59      3922\n",
      "weighted avg       0.76      0.64      0.59      3922\n",
      "\n",
      "------------------------------------------------ Random Forest: -------------------------------------------------\n",
      "              precision    recall  f1-score   support\n",
      "\n",
      "           0       0.65      0.99      0.79      1961\n",
      "           1       0.98      0.47      0.64      1961\n",
      "\n",
      "    accuracy                           0.73      3922\n",
      "   macro avg       0.82      0.73      0.71      3922\n",
      "weighted avg       0.82      0.73      0.71      3922\n",
      "\n",
      "----------------------------------------------- Gradient Boosting: ----------------------------------------------\n",
      "              precision    recall  f1-score   support\n",
      "\n",
      "           0       0.69      0.95      0.80      1961\n",
      "           1       0.92      0.58      0.71      1961\n",
      "\n",
      "    accuracy                           0.77      3922\n",
      "   macro avg       0.81      0.77      0.76      3922\n",
      "weighted avg       0.81      0.77      0.76      3922\n",
      "\n",
      "-------------------------------------------- Support Vector Machine: --------------------------------------------\n",
      "              precision    recall  f1-score   support\n",
      "\n",
      "           0       0.71      0.95      0.81      1961\n",
      "           1       0.93      0.61      0.73      1961\n",
      "\n",
      "    accuracy                           0.78      3922\n",
      "   macro avg       0.82      0.78      0.77      3922\n",
      "weighted avg       0.82      0.78      0.77      3922\n",
      "\n"
     ]
    }
   ],
   "source": [
    "f1_scores_oversampling = training_testing_classifiers(X_train_1_oversampling, y_train_1_oversampling, X_test_1_oversampling, y_test_1_oversampling)"
   ]
  },
  {
   "cell_type": "markdown",
   "metadata": {},
   "source": [
    "#### Results comparisons"
   ]
  },
  {
   "cell_type": "markdown",
   "metadata": {},
   "source": [
    "The `add_labels` function add the bar label to the plot"
   ]
  },
  {
   "cell_type": "code",
   "execution_count": 50,
   "metadata": {},
   "outputs": [],
   "source": [
    "def add_labels(bars):\n",
    "    for bar in bars:\n",
    "        height = bar.get_height()\n",
    "        plt.text(bar.get_x() + bar.get_width() / 2, height, round(height, 2), ha='center', va='bottom')"
   ]
  },
  {
   "cell_type": "code",
   "execution_count": 83,
   "metadata": {},
   "outputs": [
    {
     "data": {
      "image/png": "[encoded data removed]",
      "text/plain": [
       "<Figure size 1200x800 with 1 Axes>"
      ]
     },
     "metadata": {},
     "output_type": "display_data"
    }
   ],
   "source": [
    "models = ['Knn', 'Random Forest', 'Gradient Boosting', 'Support Vector Machine']\n",
    "\n",
    "plt.figure(figsize=(12, 8))\n",
    "bar_width = 0.2\n",
    "index = np.arange(len(models))\n",
    "\n",
    "plt.bar(index, f1_scores_smoteen, width=bar_width, align='center', label='SMOTEEN')\n",
    "plt.bar(index + bar_width, f1_scores_undersampling, width=bar_width, align='center', label='Undersampling')\n",
    "plt.bar(index + 2 * bar_width, f1_scores_oversampling, width=bar_width, align='center', label='Oversampling')\n",
    "\n",
    "plt.xlabel('Models')\n",
    "plt.ylabel('F1 Score')\n",
    "plt.title('Comparison of F1 Scores for Different Sampling Techniques')\n",
    "plt.xticks(index + bar_width, models, rotation=45)\n",
    "plt.legend()\n",
    "\n",
    "plt.tight_layout()\n",
    "plt.show()"
   ]
  },
  {
   "cell_type": "markdown",
   "metadata": {},
   "source": [
    "The bar chart illustrates the F1 scores of KNN, Random Forest, Gradient Boosting, and SVM across different class balancing techniques. The data reveals that oversampling typically enhances model performance in detecting the minority class, as indicated by higher F1 scores, especially for Gradient Boosting and SVM, although this may also increase the false positive rate. Undersampling, while offering a balanced precision and recall, involves much smaller sample sizes, which could limit its generalizability. SMOTEENN, in contrast, shows high recall for the negative class but struggles with the positive class, suggesting a propensity towards predicting true negatives at the expense of missing some true positives. Gradient Boosting and SVM with SMOTEENN could be the preferable option if improved with sufficient data to enhance its ability to generalize effectively, particularly in environments where a balanced detection of classes is crucial."
   ]
  },
  {
   "cell_type": "markdown",
   "metadata": {},
   "source": [
    "### **Training on Visual Scoring 2**"
   ]
  },
  {
   "cell_type": "markdown",
   "metadata": {},
   "source": [
    "#### Using SMOOTEENN Dataset"
   ]
  },
  {
   "cell_type": "code",
   "execution_count": 52,
   "metadata": {},
   "outputs": [
    {
     "name": "stdout",
     "output_type": "stream",
     "text": [
      "----------------------------------------------- Training Started -----------------------------------------------\n",
      "------------------------------------------------ Testing Started ------------------------------------------------\n",
      "---------------------------------------------- K-Nearest Neighbors: ---------------------------------------------\n",
      "              precision    recall  f1-score   support\n",
      "\n",
      "           0       0.62      0.96      0.75      3284\n",
      "           1       0.93      0.44      0.59      3511\n",
      "\n",
      "    accuracy                           0.69      6795\n",
      "   macro avg       0.77      0.70      0.67      6795\n",
      "weighted avg       0.78      0.69      0.67      6795\n",
      "\n",
      "------------------------------------------------ Random Forest: -------------------------------------------------\n",
      "              precision    recall  f1-score   support\n",
      "\n",
      "           0       0.60      1.00      0.75      3284\n",
      "           1       0.99      0.38      0.54      3511\n",
      "\n",
      "    accuracy                           0.68      6795\n",
      "   macro avg       0.80      0.69      0.65      6795\n",
      "weighted avg       0.80      0.68      0.64      6795\n",
      "\n",
      "----------------------------------------------- Gradient Boosting: ----------------------------------------------\n",
      "              precision    recall  f1-score   support\n",
      "\n",
      "           0       0.76      0.98      0.85      3284\n",
      "           1       0.97      0.71      0.82      3511\n",
      "\n",
      "    accuracy                           0.84      6795\n",
      "   macro avg       0.86      0.84      0.84      6795\n",
      "weighted avg       0.87      0.84      0.84      6795\n",
      "\n",
      "-------------------------------------------- Support Vector Machine: --------------------------------------------\n",
      "              precision    recall  f1-score   support\n",
      "\n",
      "           0       0.72      0.93      0.81      3284\n",
      "           1       0.91      0.66      0.76      3511\n",
      "\n",
      "    accuracy                           0.79      6795\n",
      "   macro avg       0.81      0.80      0.79      6795\n",
      "weighted avg       0.82      0.79      0.79      6795\n",
      "\n"
     ]
    }
   ],
   "source": [
    "f1_scores_2_smoteen = training_testing_classifiers(X_train_2_smoteen, y_train_2_smoteen, X_test_2_smoteen, y_test_2_smoteen)"
   ]
  },
  {
   "cell_type": "markdown",
   "metadata": {},
   "source": [
    "#### Using Undersampled Dataset"
   ]
  },
  {
   "cell_type": "code",
   "execution_count": 53,
   "metadata": {},
   "outputs": [
    {
     "name": "stdout",
     "output_type": "stream",
     "text": [
      "----------------------------------------------- Training Started -----------------------------------------------\n",
      "------------------------------------------------ Testing Started ------------------------------------------------\n",
      "---------------------------------------------- K-Nearest Neighbors: ---------------------------------------------\n",
      "              precision    recall  f1-score   support\n",
      "\n",
      "           0       0.71      0.84      0.77        89\n",
      "           1       0.81      0.65      0.72        89\n",
      "\n",
      "    accuracy                           0.75       178\n",
      "   macro avg       0.76      0.75      0.74       178\n",
      "weighted avg       0.76      0.75      0.74       178\n",
      "\n",
      "------------------------------------------------ Random Forest: -------------------------------------------------\n",
      "              precision    recall  f1-score   support\n",
      "\n",
      "           0       0.76      0.96      0.85        89\n",
      "           1       0.94      0.70      0.80        89\n",
      "\n",
      "    accuracy                           0.83       178\n",
      "   macro avg       0.85      0.83      0.82       178\n",
      "weighted avg       0.85      0.83      0.82       178\n",
      "\n",
      "----------------------------------------------- Gradient Boosting: ----------------------------------------------\n",
      "              precision    recall  f1-score   support\n",
      "\n",
      "           0       0.72      0.93      0.81        89\n",
      "           1       0.90      0.64      0.75        89\n",
      "\n",
      "    accuracy                           0.79       178\n",
      "   macro avg       0.81      0.79      0.78       178\n",
      "weighted avg       0.81      0.79      0.78       178\n",
      "\n",
      "-------------------------------------------- Support Vector Machine: --------------------------------------------\n",
      "              precision    recall  f1-score   support\n",
      "\n",
      "           0       0.85      0.87      0.86        89\n",
      "           1       0.86      0.84      0.85        89\n",
      "\n",
      "    accuracy                           0.85       178\n",
      "   macro avg       0.85      0.85      0.85       178\n",
      "weighted avg       0.85      0.85      0.85       178\n",
      "\n"
     ]
    }
   ],
   "source": [
    "f1_scores_2_undersampling = training_testing_classifiers(X_train_2_undersampling, y_train_2_undersampling, X_test_2_undersampling, y_test_2_undersampling)"
   ]
  },
  {
   "cell_type": "markdown",
   "metadata": {},
   "source": [
    "#### Using Oversampled Dataset"
   ]
  },
  {
   "cell_type": "code",
   "execution_count": 54,
   "metadata": {},
   "outputs": [
    {
     "name": "stdout",
     "output_type": "stream",
     "text": [
      "----------------------------------------------- Training Started -----------------------------------------------\n",
      "------------------------------------------------ Testing Started ------------------------------------------------\n",
      "---------------------------------------------- K-Nearest Neighbors: ---------------------------------------------\n",
      "              precision    recall  f1-score   support\n",
      "\n",
      "           0       0.60      0.97      0.74      3511\n",
      "           1       0.91      0.35      0.51      3511\n",
      "\n",
      "    accuracy                           0.66      7022\n",
      "   macro avg       0.76      0.66      0.63      7022\n",
      "weighted avg       0.76      0.66      0.63      7022\n",
      "\n",
      "------------------------------------------------ Random Forest: -------------------------------------------------\n",
      "              precision    recall  f1-score   support\n",
      "\n",
      "           0       0.53      1.00      0.69      3511\n",
      "           1       0.98      0.11      0.20      3511\n",
      "\n",
      "    accuracy                           0.55      7022\n",
      "   macro avg       0.76      0.55      0.44      7022\n",
      "weighted avg       0.76      0.55      0.44      7022\n",
      "\n",
      "----------------------------------------------- Gradient Boosting: ----------------------------------------------\n",
      "              precision    recall  f1-score   support\n",
      "\n",
      "           0       0.76      0.97      0.85      3511\n",
      "           1       0.96      0.69      0.80      3511\n",
      "\n",
      "    accuracy                           0.83      7022\n",
      "   macro avg       0.86      0.83      0.82      7022\n",
      "weighted avg       0.86      0.83      0.82      7022\n",
      "\n",
      "-------------------------------------------- Support Vector Machine: --------------------------------------------\n",
      "              precision    recall  f1-score   support\n",
      "\n",
      "           0       0.71      0.93      0.80      3511\n",
      "           1       0.90      0.62      0.73      3511\n",
      "\n",
      "    accuracy                           0.77      7022\n",
      "   macro avg       0.80      0.77      0.77      7022\n",
      "weighted avg       0.80      0.77      0.77      7022\n",
      "\n"
     ]
    }
   ],
   "source": [
    "f1_scores_2_oversampling = training_testing_classifiers(X_train_2_oversampling, y_train_2_oversampling, X_test_2_oversampling, y_test_2_oversampling)"
   ]
  },
  {
   "cell_type": "markdown",
   "metadata": {},
   "source": [
    "### Results comparisons"
   ]
  },
  {
   "cell_type": "code",
   "execution_count": 55,
   "metadata": {},
   "outputs": [
    {
     "data": {
      "image/png": "[encoded data removed]",
      "text/plain": [
       "<Figure size 1200x800 with 1 Axes>"
      ]
     },
     "metadata": {},
     "output_type": "display_data"
    }
   ],
   "source": [
    "models = ['Knn', 'Random Forest', 'Gradient Boosting', 'Support Vector Machine']\n",
    "\n",
    "plt.figure(figsize=(12, 8))\n",
    "bar_width = 0.2\n",
    "index = np.arange(len(models))\n",
    "\n",
    "plt.bar(index, f1_scores_2_smoteen, width=bar_width, align='center', label='SMOTEEN')\n",
    "plt.bar(index + bar_width, f1_scores_2_undersampling, width=bar_width, align='center', label='Undersampling')\n",
    "plt.bar(index + 2 * bar_width, f1_scores_2_oversampling, width=bar_width, align='center', label='Oversampling')\n",
    "\n",
    "plt.xlabel('Models')\n",
    "plt.ylabel('F1 Score')\n",
    "plt.title('Comparison of F1 Scores for Different Sampling Techniques')\n",
    "plt.xticks(index + bar_width, models, rotation=45)\n",
    "plt.legend()\n",
    "\n",
    "# Adding values on the bars\n",
    "def add_labels(bars):\n",
    "    for bar in bars:\n",
    "        height = bar.get_height()\n",
    "        plt.text(bar.get_x() + bar.get_width() / 2, height, round(height, 2), ha='center', va='bottom')\n",
    "\n",
    "plt.tight_layout()\n",
    "plt.show()"
   ]
  },
  {
   "cell_type": "markdown",
   "metadata": {},
   "source": [
    "Analysing the results of training over the visual scoring Gradient Boosting consistently emerges as the top performer, particularly with SMOTEEN and oversampling techniques, where it achieves impressive accuracy and balanced F1-scores, indicating robust generalization without significant overfitting or underfitting. The Support Vector Machine excels in the undersampling context, achieving high precision and recall, making it ideal for smaller, more balanced datasets. Conversely, the Random Forest classifier, while generally performing well, shows signs of overfitting in the oversampling scenario, particularly with class 0, highlighting the nuanced impact of class distribution on model training and performance. This analysis underscores the importance of selecting appropriate balancing techniques and models based on the specific needs and characteristics of the dataset to optimize classification outcomes. Gradient Boosting with SMOTEEN proves to be the best class imbalance handling method, delivering superior and consistent performance across varied datasets by effectively balancing precision and recall. The Gradient Boosting model paired with oversampling technique consistently yields the highest F1 scores, making it the best combination for managing class imbalance in this dataset."
   ]
  },
  {
   "cell_type": "markdown",
   "metadata": {},
   "source": [
    "## Feature Selection\n",
    "Performing feature selection using the feature importances derived from training a Gradient Boosting classifier on two differently sampled datasets. It identifies the most influential features based on their calculated importance scores, then visualizes and selects features exceeding a specified importance threshold. The selected features are used to filter the training, validation, and test datasets, refining the feature set to improve model performance and focus learning on the most relevant attributes. "
   ]
  },
  {
   "cell_type": "code",
   "execution_count": 56,
   "metadata": {},
   "outputs": [
    {
     "data": {
      "image/png": "[encoded data removed]",
      "text/plain": [
       "<Figure size 1000x600 with 1 Axes>"
      ]
     },
     "metadata": {},
     "output_type": "display_data"
    }
   ],
   "source": [
    "gb = GradientBoostingClassifier()\n",
    "gb.fit(X_train_1_smoteen, y_train_1_smoteen)\n",
    "\n",
    "feature_importances = gb.feature_importances_\n",
    "\n",
    "feature_names = X_train_1_smoteen.columns\n",
    "sorted_indices = np.argsort(feature_importances)[::-1]\n",
    "sorted_feature_names = [feature_names[i] for i in sorted_indices]\n",
    "\n",
    "plt.figure(figsize=(10, 6))\n",
    "plt.bar(range(len(feature_importances)), feature_importances[sorted_indices], align='center')\n",
    "plt.xticks(range(len(feature_importances)), sorted_feature_names, rotation=90)\n",
    "plt.xlabel('Feature')\n",
    "plt.ylabel('Importance')\n",
    "plt.title('Feature Importance')\n",
    "plt.tight_layout()\n",
    "plt.show()"
   ]
  },
  {
   "cell_type": "markdown",
   "metadata": {},
   "source": [
    "This chart highlights \"power_ratio\" as the most critical feature in EEG signal analysis with a Gradient Boosting classifier, indicating its significant role in distinguishing EEG patterns effectively.<br><br>\n",
    "\n",
    "Filtering and visualizes the most significant features with importance above a threshold of 0.025, showcasing their relative importance in a bar chart, which provides a clear graphical representation of the features most critical to the model's performance, facilitating focused analytical efforts on these key indicators."
   ]
  },
  {
   "cell_type": "code",
   "execution_count": 57,
   "metadata": {},
   "outputs": [
    {
     "data": {
      "image/png": "[encoded data removed]",
      "text/plain": [
       "<Figure size 1000x600 with 1 Axes>"
      ]
     },
     "metadata": {},
     "output_type": "display_data"
    }
   ],
   "source": [
    "threshold = 0.025\n",
    "selected_features = [feature for feature, importance in zip(sorted_feature_names, feature_importances[sorted_indices]) if importance > threshold]\n",
    "plt.figure(figsize=(10, 6))\n",
    "plt.bar(range(len(selected_features)), [importance for importance in feature_importances[sorted_indices] if importance > threshold], align='center')\n",
    "plt.xticks(range(len(selected_features)), selected_features, rotation=90)\n",
    "plt.xlabel('Feature')\n",
    "plt.ylabel('Importance')\n",
    "plt.title(f'Feature Importance (Importance > {threshold})')\n",
    "plt.tight_layout()\n",
    "plt.show()"
   ]
  },
  {
   "cell_type": "code",
   "execution_count": 58,
   "metadata": {},
   "outputs": [
    {
     "data": {
      "image/png": "[encoded data removed]",
      "text/plain": [
       "<Figure size 1000x600 with 1 Axes>"
      ]
     },
     "metadata": {},
     "output_type": "display_data"
    }
   ],
   "source": [
    "gb = GradientBoostingClassifier()\n",
    "gb.fit(X_train_2_oversampling, y_train_2_oversampling)\n",
    "\n",
    "feature_importances = gb.feature_importances_\n",
    "\n",
    "feature_names = X_train_2_oversampling.columns\n",
    "sorted_indices = np.argsort(feature_importances)[::-1]\n",
    "sorted_feature_names = [feature_names[i] for i in sorted_indices]\n",
    "\n",
    "plt.figure(figsize=(10, 6))\n",
    "plt.bar(range(len(feature_importances)), feature_importances[sorted_indices], align='center')\n",
    "plt.xticks(range(len(feature_importances)), sorted_feature_names, rotation=90)\n",
    "plt.xlabel('Feature')\n",
    "plt.ylabel('Importance')\n",
    "plt.title('Feature Importance')\n",
    "plt.tight_layout()\n",
    "plt.show()"
   ]
  },
  {
   "cell_type": "markdown",
   "metadata": {},
   "source": [
    "The chart illustrates the distribution of feature importance derived from a Gradient Boosting model, with \"power_ratio\" and \"power_peak\" being the most significant. These top features are followed by a gradual decrease in importance across a spectrum of other features, emphasizing their lower yet significant role in the model's decision-making process for EEG signal analysis.<br><br>\n",
    "\n",
    "\n",
    "Filtering and visualizes the most significant features with importance above a threshold of 0.025, showcasing their relative importance in a bar chart, which provides a clear graphical representation of the features most critical to the model's performance, facilitating focused analytical efforts on these key indicators."
   ]
  },
  {
   "cell_type": "code",
   "execution_count": 59,
   "metadata": {},
   "outputs": [
    {
     "data": {
      "image/png": "[encoded data removed]",
      "text/plain": [
       "<Figure size 1000x600 with 1 Axes>"
      ]
     },
     "metadata": {},
     "output_type": "display_data"
    }
   ],
   "source": [
    "threshold = 0.025\n",
    "selected_features2 = [feature for feature, importance in zip(sorted_feature_names, feature_importances[sorted_indices]) if importance > threshold]\n",
    "plt.figure(figsize=(10, 6))\n",
    "plt.bar(range(len(selected_features2)), [importance for importance in feature_importances[sorted_indices] if importance > threshold], align='center')\n",
    "plt.xticks(range(len(selected_features2)), selected_features2, rotation=90)\n",
    "plt.xlabel('Feature')\n",
    "plt.ylabel('Importance')\n",
    "plt.title(f'Feature Importance (Importance > {threshold})')\n",
    "plt.tight_layout()\n",
    "plt.show()"
   ]
  },
  {
   "cell_type": "markdown",
   "metadata": {},
   "source": [
    "### Extracing the Best Features\n",
    "Based on the best model and class imbalance technique we retrieved, per each visual scoring we built train, val and test dataset to train and tune the finals models ."
   ]
  },
  {
   "cell_type": "code",
   "execution_count": 60,
   "metadata": {},
   "outputs": [],
   "source": [
    "X_train_1_selected, X_val_1_selected, X_test_1_selected = X_train_1_smoteen[selected_features], X_val_1_smoteen[selected_features], X_test_1_smoteen[selected_features]\n",
    "y_train_1_selected, y_val_1_selected, y_test_1_selected = y_train_1_smoteen, y_val_1_smoteen, y_test_1_smoteen"
   ]
  },
  {
   "cell_type": "code",
   "execution_count": 61,
   "metadata": {},
   "outputs": [],
   "source": [
    "X_train_2_selected, X_val_2_selected, X_test_2_selected = X_train_2_oversampling[selected_features2], X_val_2_oversampling[selected_features2], X_test_2_oversampling[selected_features2]\n",
    "y_train_2_selected, y_val_2_selected, y_test_2_selected = y_train_2_oversampling, y_val_2_oversampling, y_test_2_oversampling"
   ]
  },
  {
   "cell_type": "markdown",
   "metadata": {},
   "source": [
    "## Regularization (${L_1}$)\n",
    "Since the Grid Search highlighted an overfitting on the data with feature selection, we want to regularize the data trying to avoid it."
   ]
  },
  {
   "cell_type": "code",
   "execution_count": 62,
   "metadata": {},
   "outputs": [
    {
     "name": "stdout",
     "output_type": "stream",
     "text": [
      "Validation Score with L1 regularization for Dataset 1: 0.9592771697632986\n",
      "Validation Score with L1 regularization for Dataset 2: 0.4664200341491178\n"
     ]
    }
   ],
   "source": [
    "log_reg_l1 = LogisticRegression(penalty='l1', C=1.0, solver='liblinear')\n",
    "log_reg_l1.fit(X_train_1_selected, y_train_1_selected)\n",
    "val_score_1 = log_reg_l1.score(X_val_1_selected, y_val_1_selected)\n",
    "\n",
    "log_reg_l1 = LogisticRegression(penalty='l1', C=1.0, solver='liblinear')\n",
    "log_reg_l1.fit(X_train_2_selected, y_train_2_selected)\n",
    "val_score_2 = log_reg_l1.score(X_val_2_selected, y_val_2_selected)\n",
    "\n",
    "print(\"Validation Score with L1 regularization for Dataset 1:\", val_score_1)\n",
    "print(\"Validation Score with L1 regularization for Dataset 2:\", val_score_2)"
   ]
  },
  {
   "cell_type": "markdown",
   "metadata": {},
   "source": [
    "## Hyperparameters Tuning"
   ]
  },
  {
   "cell_type": "markdown",
   "metadata": {},
   "source": [
    "we will perform hyperparamters tuning on both the best model founded for ${scoring_1}$ and ${scoring_2}$"
   ]
  },
  {
   "cell_type": "markdown",
   "metadata": {},
   "source": [
    "The `optimize_model` function manages the optimization of a Gradient Boosting model using Grid Search to find the best hyperparameters. It checks if a pre-trained model exists at a specified path and loads it if available, otherwise, it performs a Grid Search with specified parameters on the training data, evaluates the model using the validation data, and then saves the best-performing model. This process ensures efficient use of resources by reusing existing models and enhances model performance by systematically tuning hyperparameters."
   ]
  },
  {
   "cell_type": "code",
   "execution_count": 63,
   "metadata": {},
   "outputs": [],
   "source": [
    "def optimize_model(x_train, y_train, x_val, y_val, x_test, y_test, best_model_path, params):\n",
    "    if os.path.exists(best_model_path):\n",
    "        print(\"Model already exists. Loading the existing model...\")\n",
    "        best_model = joblib.load(best_model_path)\n",
    "    else:\n",
    "        print(\"No model found. Performing Grid Search...\")\n",
    "\n",
    "        gb = GradientBoostingClassifier()\n",
    "        scorer = make_scorer(f1_score)\n",
    "\n",
    "        grid_search = GridSearchCV(estimator=gb, param_grid=params, scoring=scorer, cv=5, verbose=1, n_jobs=-1)\n",
    "        grid_search.fit(x_train, y_train)\n",
    "        best_model = grid_search.best_estimator_\n",
    "\n",
    "        joblib.dump(best_model, best_model_path)\n",
    "        print(\"Best model saved successfully.\")\n",
    "\n",
    "\n",
    "    y_train_pred = best_model.predict(x_train)\n",
    "    y_val_pred = best_model.predict(x_val)\n",
    "    y_test_pred = best_model.predict(x_test)\n",
    "\n",
    "    f1_score_train = f1_score(y_train, y_train_pred, average='binary')\n",
    "    f1_score_val = f1_score(y_val, y_val_pred, average='binary')\n",
    "    f1_score_val = f1_score(y_test, y_test_pred, average='binary')\n",
    "\n",
    "    print(\"Train F1 Score: \", f1_score_train)\n",
    "    print(\"Validation F1 Score: \", f1_score_val)\n",
    "    print(\"Test F1 Score: \", f1_score_val)\n",
    "    print(\"Best Parameters: \", best_model.get_params())\n",
    "\n",
    "    return best_model"
   ]
  },
  {
   "cell_type": "code",
   "execution_count": 64,
   "metadata": {},
   "outputs": [],
   "source": [
    "params = {'n_estimators': [300, 400],\n",
    "            'learning_rate': [.05, .1],\n",
    "            'max_depth': [5, 7, 10],\n",
    "            'min_samples_split': [2, 3],\n",
    "            'min_samples_leaf': [2, 3]}"
   ]
  },
  {
   "cell_type": "code",
   "execution_count": 65,
   "metadata": {},
   "outputs": [
    {
     "name": "stdout",
     "output_type": "stream",
     "text": [
      "No model found. Performing Grid Search...\n",
      "Fitting 5 folds for each of 48 candidates, totalling 240 fits\n",
      "Best model saved successfully.\n",
      "Train F1 Score:  0.9982247020035506\n",
      "Validation F1 Score:  0.65748031496063\n",
      "Test F1 Score:  0.65748031496063\n",
      "Best Parameters:  {'ccp_alpha': 0.0, 'criterion': 'friedman_mse', 'init': None, 'learning_rate': 0.05, 'loss': 'log_loss', 'max_depth': 10, 'max_features': None, 'max_leaf_nodes': None, 'min_impurity_decrease': 0.0, 'min_samples_leaf': 3, 'min_samples_split': 3, 'min_weight_fraction_leaf': 0.0, 'n_estimators': 300, 'n_iter_no_change': None, 'random_state': None, 'subsample': 1.0, 'tol': 0.0001, 'validation_fraction': 0.1, 'verbose': 0, 'warm_start': False}\n"
     ]
    }
   ],
   "source": [
    "best_model_path = 'models/best_vs_1.pkl'\n",
    "best_vs_1 = optimize_model(X_train_1_selected, y_train_1_selected, X_val_1_selected, y_val_1_selected, X_test_1_selected, y_test_1_selected, best_model_path, params)"
   ]
  },
  {
   "cell_type": "code",
   "execution_count": 66,
   "metadata": {},
   "outputs": [
    {
     "name": "stdout",
     "output_type": "stream",
     "text": [
      "No model found. Performing Grid Search...\n",
      "Fitting 5 folds for each of 48 candidates, totalling 240 fits\n",
      "Best model saved successfully.\n",
      "Train F1 Score:  1.0\n",
      "Validation F1 Score:  0.38252602987777273\n",
      "Test F1 Score:  0.38252602987777273\n",
      "Best Parameters:  {'ccp_alpha': 0.0, 'criterion': 'friedman_mse', 'init': None, 'learning_rate': 0.1, 'loss': 'log_loss', 'max_depth': 10, 'max_features': None, 'max_leaf_nodes': None, 'min_impurity_decrease': 0.0, 'min_samples_leaf': 3, 'min_samples_split': 3, 'min_weight_fraction_leaf': 0.0, 'n_estimators': 400, 'n_iter_no_change': None, 'random_state': None, 'subsample': 1.0, 'tol': 0.0001, 'validation_fraction': 0.1, 'verbose': 0, 'warm_start': False}\n"
     ]
    }
   ],
   "source": [
    "best_model_path = 'models/best_vs_2.pkl'\n",
    "best_vs_2 = optimize_model(X_train_2_selected, y_train_2_selected, X_val_2_selected, y_val_2_selected, X_test_2_selected, y_test_2_selected, best_model_path, params)"
   ]
  },
  {
   "cell_type": "markdown",
   "metadata": {},
   "source": [
    "## Model's Evaluations\n",
    "### Classification Report\n",
    "\n",
    "Evaluating the performance of trained models on both training and testing datasets, generating classification reports and F1 scores for two sets of data. Uing the predict method to generate predictions, then calculates metrics to assess the model's accuracy, including precision, recall, and F1 scores. These evaluations help in understanding the models' effectiveness at classifying data into 'Class 0' and 'Class 1'. The results are visualized in a bar graph comparing F1 scores across different sets, providing a clear view of model performance across training and testing phases."
   ]
  },
  {
   "cell_type": "code",
   "execution_count": 68,
   "metadata": {},
   "outputs": [],
   "source": [
    "y_train_pred_1 = best_vs_1.predict(X_train_1_selected)\n",
    "y_train_pred_2 = best_vs_2.predict(X_train_2_selected)\n",
    "\n",
    "y_test_pred_1 = best_vs_1.predict(X_test_1_selected)\n",
    "y_test_pred_2 = best_vs_2.predict(X_test_2_selected)\n",
    "\n",
    "train_report_1 = classification_report(y_train_1_selected, y_train_pred_1, target_names=['Class 0', 'Class 1'])\n",
    "train_report_2 = classification_report(y_train_2_selected, y_train_pred_2, target_names=['Class 0', 'Class 1'])\n",
    "\n",
    "test_report_1 = classification_report(y_test_1_selected, y_test_pred_1, target_names=['Class 0', 'Class 1'])\n",
    "test_report_2 = classification_report(y_test_2_selected, y_test_pred_2, target_names=['Class 0', 'Class 1'])"
   ]
  },
  {
   "cell_type": "code",
   "execution_count": 69,
   "metadata": {},
   "outputs": [
    {
     "name": "stdout",
     "output_type": "stream",
     "text": [
      "Gradient Boosting VS 1 Training Classification Report:\n",
      "              precision    recall  f1-score   support\n",
      "\n",
      "     Class 0       1.00      1.00      1.00     10979\n",
      "     Class 1       1.00      1.00      1.00     11809\n",
      "\n",
      "    accuracy                           1.00     22788\n",
      "   macro avg       1.00      1.00      1.00     22788\n",
      "weighted avg       1.00      1.00      1.00     22788\n",
      "\n",
      "Gradient Boosting VS 2 Training Classification Report:\n",
      "              precision    recall  f1-score   support\n",
      "\n",
      "     Class 0       1.00      1.00      1.00     14153\n",
      "     Class 1       1.00      1.00      1.00     14153\n",
      "\n",
      "    accuracy                           1.00     28306\n",
      "   macro avg       1.00      1.00      1.00     28306\n",
      "weighted avg       1.00      1.00      1.00     28306\n",
      "\n",
      "Gradient Boosting VS 1 Test Classification Report:\n",
      "              precision    recall  f1-score   support\n",
      "\n",
      "     Class 0       0.63      0.95      0.76      1732\n",
      "     Class 1       0.92      0.51      0.66      1961\n",
      "\n",
      "    accuracy                           0.72      3693\n",
      "   macro avg       0.78      0.73      0.71      3693\n",
      "weighted avg       0.79      0.72      0.71      3693\n",
      "\n",
      "Gradient Boosting VS 2 Test Classification Report:\n",
      "              precision    recall  f1-score   support\n",
      "\n",
      "     Class 0       0.56      0.98      0.72      3511\n",
      "     Class 1       0.93      0.24      0.38      3511\n",
      "\n",
      "    accuracy                           0.61      7022\n",
      "   macro avg       0.75      0.61      0.55      7022\n",
      "weighted avg       0.75      0.61      0.55      7022\n",
      "\n"
     ]
    }
   ],
   "source": [
    "print(\"Gradient Boosting VS 1 Training Classification Report:\")\n",
    "print(train_report_1)\n",
    "print(\"Gradient Boosting VS 2 Training Classification Report:\")\n",
    "print(train_report_2)\n",
    "\n",
    "print(\"Gradient Boosting VS 1 Test Classification Report:\")\n",
    "print(test_report_1)\n",
    "print(\"Gradient Boosting VS 2 Test Classification Report:\")\n",
    "print(test_report_2)"
   ]
  },
  {
   "cell_type": "code",
   "execution_count": 70,
   "metadata": {},
   "outputs": [],
   "source": [
    "f1_vs_1_train = f1_score(y_test_1_selected, y_test_pred_1)\n",
    "f1_vs_2_train = f1_score(y_test_2_selected, y_test_pred_2)\n",
    "\n",
    "f1_vs_1_test = f1_score(y_train_1_selected, y_train_pred_1)\n",
    "f1_vs_2_test = f1_score(y_train_2_selected, y_train_pred_2)"
   ]
  },
  {
   "cell_type": "code",
   "execution_count": 71,
   "metadata": {},
   "outputs": [
    {
     "data": {
      "image/png": "[encoded data removed]",
      "text/plain": [
       "<Figure size 1000x600 with 1 Axes>"
      ]
     },
     "metadata": {},
     "output_type": "display_data"
    }
   ],
   "source": [
    "plt.figure(figsize=(10, 6))\n",
    "\n",
    "models = ['GB_1 (Test)', 'GB_2t (Test)', 'GB_1 (Train)', 'GB_2 (Train)']\n",
    "f1_scores = [f1_vs_1_train, f1_vs_2_train, f1_vs_1_test, f1_vs_2_test]\n",
    "\n",
    "plt.bar(models, f1_scores, color=['blue', 'green', 'skyblue', 'lightgreen'])\n",
    "plt.xlabel('Model')\n",
    "plt.ylabel('F1 Score')\n",
    "plt.title('F1 Scores of Gradient Boost (Test and Train)')\n",
    "plt.ylim(0, 1)  \n",
    "plt.xticks(rotation=45, ha='right')\n",
    "plt.show()"
   ]
  },
  {
   "cell_type": "markdown",
   "metadata": {},
   "source": [
    "The model for ${VS_2}$ (shown in green tones) performs significantly better during training compared to testing, which suggests potential overfitting, while the model for ${VS_1}$ (shown in blue tones) maintains a more consistent performance across both datasets. This visualization highlighted a problem of generalization probably due to the feature selection, in a future version exploring further techniques to allow a better generalization could potentially enhance the model performance that, before where both ${f_1}$ score around 80%."
   ]
  },
  {
   "cell_type": "markdown",
   "metadata": {},
   "source": [
    "### Labels Analysis\n",
    "\n",
    "Evaluating the two classification models by generating probability predictions for training and test sets, visualizing these probabilities against actual labels, and calculating accuracy and F1 scores to assess model performance. By setting thresholds for binary classification, it provides a clear comparison of model effectiveness in predicting correct labels across different datasets.\n",
    "#### **Visual Scoring 1**"
   ]
  },
  {
   "cell_type": "code",
   "execution_count": 72,
   "metadata": {},
   "outputs": [],
   "source": [
    "train_prob_1 = best_vs_1.predict_proba(X_train_1_selected)[:, 1]\n",
    "test_prob_1 = best_vs_1.predict_proba(X_test_1_selected)[:, 1]"
   ]
  },
  {
   "cell_type": "code",
   "execution_count": 73,
   "metadata": {},
   "outputs": [],
   "source": [
    "positive_indices = np.where(y_test_1_selected == 1)[0]\n",
    "negative_indices = np.where(y_test_1_selected == 0)[0]\n",
    "\n",
    "positive_sample_indices = np.random.choice(positive_indices, 30, replace=False)\n",
    "negative_sample_indices = np.random.choice(negative_indices, 60, replace=False)\n",
    "\n",
    "selected_indices = np.concatenate((positive_sample_indices, negative_sample_indices))\n",
    "subset_test_prob = test_prob_1[selected_indices]\n",
    "subset_y_test_1 = y_test_1_selected[selected_indices]"
   ]
  },
  {
   "cell_type": "code",
   "execution_count": 74,
   "metadata": {},
   "outputs": [
    {
     "data": {
      "image/png": "[encoded data removed]",
      "text/plain": [
       "<Figure size 1200x600 with 1 Axes>"
      ]
     },
     "metadata": {},
     "output_type": "display_data"
    }
   ],
   "source": [
    "indices = np.arange(len(subset_test_prob))\n",
    "\n",
    "plt.figure(figsize=(12, 6))\n",
    "plt.scatter(indices, subset_test_prob, color='blue', label='Predicted Probabilities')\n",
    "plt.scatter(indices, subset_y_test_1, color='red', label='Actual Labels')\n",
    "plt.xlabel('Index')\n",
    "plt.ylabel('Value')\n",
    "plt.title('Predicted Probabilities vs Actual Labels per Index')\n",
    "plt.legend()\n",
    "plt.grid(True)\n",
    "plt.show()"
   ]
  },
  {
   "cell_type": "code",
   "execution_count": 75,
   "metadata": {},
   "outputs": [],
   "source": [
    "train_pred = (train_prob_1 > 0.8).astype(int)\n",
    "test_pred = (test_prob_1 > 0.8).astype(int)\n",
    "\n",
    "train_accuracy = accuracy_score(y_train_1_selected, train_pred)\n",
    "train_f1 = f1_score(y_train_1_selected, train_pred)\n",
    "\n",
    "test_accuracy = accuracy_score(y_test_1_selected, test_pred)\n",
    "test_f1 = f1_score(y_test_1_selected, test_pred)"
   ]
  },
  {
   "cell_type": "code",
   "execution_count": 76,
   "metadata": {},
   "outputs": [
    {
     "name": "stdout",
     "output_type": "stream",
     "text": [
      "Training Accuracy: 0.9969720905739863\n",
      "Training F1 Score: 0.9970699392755531\n",
      "Test Accuracy: 0.6631464933658272\n",
      "Test F1 Score: 0.5531609195402298\n"
     ]
    }
   ],
   "source": [
    "print(\"Training Accuracy:\", train_accuracy)\n",
    "print(\"Training F1 Score:\", train_f1)\n",
    "print(\"Test Accuracy:\", test_accuracy)\n",
    "print(\"Test F1 Score:\", test_f1)"
   ]
  },
  {
   "cell_type": "markdown",
   "metadata": {},
   "source": [
    "The scatter plot alongside the provided metrics offers a comprehensive view of the model's performance for ${VS_1}$. While the model demonstrates strong training results with an accuracy and F1 score both approximately 0.95, indicating excellent fit to the training data, its performance on the test set shows a significant decline with accuracy dropping to 0.64 and F1 score to around 0.55. This suggests overfitting during training, as the model does not generalize well to new, unseen data, evidenced by the lower test scores and the dispersion of predicted probabilities relative to actual labels in the scatter plot."
   ]
  },
  {
   "cell_type": "markdown",
   "metadata": {},
   "source": [
    "#### **Visual Scoring 2**"
   ]
  },
  {
   "cell_type": "code",
   "execution_count": 77,
   "metadata": {},
   "outputs": [],
   "source": [
    "train_prob_2 = best_vs_2.predict_proba(X_train_2_selected)[:, 1]\n",
    "test_prob_2 = best_vs_2.predict_proba(X_test_2_selected)[:, 1]"
   ]
  },
  {
   "cell_type": "code",
   "execution_count": 78,
   "metadata": {},
   "outputs": [],
   "source": [
    "positive_indices = np.where(y_test_2_selected == 1)[0]\n",
    "negative_indices = np.where(y_test_2_selected == 0)[0]\n",
    "\n",
    "positive_sample_indices = np.random.choice(positive_indices, 50, replace=False)\n",
    "negative_sample_indices = np.random.choice(negative_indices, 100, replace=False)\n",
    "\n",
    "selected_indices = np.concatenate((positive_sample_indices, negative_sample_indices))\n",
    "\n",
    "subset_test_prob = test_prob_2[selected_indices]\n",
    "subset_y_test_2 = y_test_2_selected[selected_indices]"
   ]
  },
  {
   "cell_type": "code",
   "execution_count": 79,
   "metadata": {},
   "outputs": [
    {
     "data": {
      "image/png": "[encoded data removed]",
      "text/plain": [
       "<Figure size 1200x600 with 1 Axes>"
      ]
     },
     "metadata": {},
     "output_type": "display_data"
    }
   ],
   "source": [
    "indices = np.arange(len(subset_test_prob))\n",
    "\n",
    "plt.figure(figsize=(12, 6))\n",
    "plt.scatter(indices, subset_test_prob, color='blue', label='Predicted Probabilities')\n",
    "plt.scatter(indices, subset_y_test_2, color='red', label='Actual Labels')\n",
    "plt.xlabel('Index')\n",
    "plt.ylabel('Value')\n",
    "plt.title('Predicted Probabilities vs Actual Labels per Index')\n",
    "plt.legend()\n",
    "plt.grid(True)\n",
    "plt.show()"
   ]
  },
  {
   "cell_type": "code",
   "execution_count": 80,
   "metadata": {},
   "outputs": [],
   "source": [
    "train_pred = (train_prob_2 > 0.5).astype(int)\n",
    "test_pred = (test_prob_2 > 0.5).astype(int)\n",
    "\n",
    "train_accuracy = accuracy_score(y_train_2_selected, train_pred)\n",
    "train_f1 = f1_score(y_train_2_selected, train_pred)\n",
    "\n",
    "test_accuracy = accuracy_score(y_test_2_selected, test_pred)\n",
    "test_f1 = f1_score(y_test_2_selected, test_pred)"
   ]
  },
  {
   "cell_type": "code",
   "execution_count": 81,
   "metadata": {},
   "outputs": [
    {
     "name": "stdout",
     "output_type": "stream",
     "text": [
      "Training Accuracy: 1.0\n",
      "Training F1 Score: 1.0\n",
      "Test Accuracy: 0.6115066932497863\n",
      "Test F1 Score: 0.38252602987777273\n"
     ]
    }
   ],
   "source": [
    "print(\"Training Accuracy:\", train_accuracy)\n",
    "print(\"Training F1 Score:\", train_f1)\n",
    "print(\"Test Accuracy:\", test_accuracy)\n",
    "print(\"Test F1 Score:\", test_f1)"
   ]
  },
  {
   "cell_type": "markdown",
   "metadata": {},
   "source": [
    "The model exhibits severe overfitting, with perfect training scores but substantially lower testing performance, highlighting a critical need for adjustments to improve generalization on unseen data."
   ]
  },
  {
   "cell_type": "markdown",
   "metadata": {},
   "source": [
    "## Conclusion\n",
    "The results obtained from the Gradient Boosting models trained on the two different datasets for sleep spindle detection, ${VS_1}$ and ${VS_2}$, exhibit stark disparities between training and testing performances. During the training phase, both models achieved nearly perfect scores, with accuracy and ${f_1}$ scores reaching or close to 1.0. This level of precision suggests that the models are highly effective in memorizing the patterns and relationships within the training data. However, this seemingly excellent performance in training does not translate well into the testing phase, where both models saw significant drops in performance metrics. For example, the accuracy and ${f_1}$ scores for ${VS_1}$ fell to around 0.66, and for ${VS_2}$, this metric were approximately 0.61. The visual analysis from scatter plots of predicted probabilities versus actual labels further illustrates these challenges, revealing a tendency to either overfit to training data or misclassify new, unseen data instances.\n",
    "\n",
    "The primary concern highlighted by these results is the issue of overfitting, where the models, though performing optimally on training datasets, fail to generalize their predictions effectively when exposed to new data. This overfitting is evident from the high variance observed in the prediction probabilities on the test data, where many samples expected to exhibit positive indicators were erroneously classified with high confidence as negatives. Overfitting of such a magnitude suggests that the models are capturing noise and specific details in the training data that do not apply more broadly, indicating an overly complex model relative to the underlying patterns in the data that are relevant for generalization.\n",
    "\n",
    "As seen in the first part where we were trying to find the best model to tune for our task, the performance where much better and there was no overfitting, therefore, it is due to the feature selection, this issue can be addressed in a future by exploring new feature selection techniques and improving the regularization trying to help penalize the complexity of the models and lastly using ensemble methods to combine multiple models predictions."
   ]
  }
 ],
 "metadata": {
  "kernelspec": {
   "display_name": "Python 3",
   "language": "python",
   "name": "python3"
  },
  "language_info": {
   "codemirror_mode": {
    "name": "ipython",
    "version": 3
   },
   "file_extension": ".py",
   "mimetype": "text/x-python",
   "name": "python",
   "nbconvert_exporter": "python",
   "pygments_lexer": "ipython3",
   "version": "3.11.9"
  }
 },
 "nbformat": 4,
 "nbformat_minor": 2
}
